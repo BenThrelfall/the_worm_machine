{
 "cells": [
  {
   "cell_type": "code",
   "execution_count": 6,
   "id": "9546e1fc-193b-478a-9a1f-5f9d149d56f2",
   "metadata": {},
   "outputs": [],
   "source": [
    "import numpy as np\n",
    "from matplotlib import pyplot as plt\n",
    "from sklearn.model_selection import train_test_split\n",
    "import time\n",
    "\n",
    "from libworm.model.beta_neuron import NeuronNetwork, from_connectome\n",
    "from libworm.data import connectomes, traces\n",
    "from libworm import preprocess\n",
    "from libworm.functions import set_neurons, tcalc_s_inf, set_trace"
   ]
  },
  {
   "cell_type": "code",
   "execution_count": 7,
   "id": "aa9584b5-55e5-4e25-b90b-c93ec89a3c90",
   "metadata": {},
   "outputs": [],
   "source": [
    "_, trace, trace_labels, label2index, timestamps = traces.load_trace()\n",
    "timestamps = timestamps - timestamps[0]\n",
    "\n",
    "chemical, gapjn = connectomes.load_cook_connectome()\n",
    "neurons = connectomes.get_main_neurons(chemical, gapjn)\n",
    "neurons.sort(key=lambda item: f\"AAA{label2index[item]:04d}{item}\" if item in label2index else item)\n",
    "model = from_connectome(chemical, gapjn, neurons)\n",
    "\n",
    "cell = \"SMBVR\"\n",
    "\n",
    "first_removal = [label2index[key] for key in label2index if key not in neurons]\n",
    "trace = np.delete(trace, first_removal, axis=0)\n",
    "\n",
    "del_index = 0\n",
    "size = trace.shape[0]\n",
    "\n",
    "for i in range(size):\n",
    "    if i not in label2index.values():\n",
    "        trace = np.delete(trace, (del_index), axis=0)\n",
    "    else:\n",
    "        del_index += 1\n",
    "\n",
    "trace_pairs = [(time, trace[:, i]) for i, time in enumerate(timestamps)]"
   ]
  },
  {
   "cell_type": "code",
   "execution_count": 8,
   "id": "041269a7-812b-4f36-9a7a-e6ab9b9bd361",
   "metadata": {},
   "outputs": [],
   "source": [
    "def eval(model, start_index, data):\n",
    "    np.seterr(all='raise')\n",
    "\n",
    "    try:\n",
    "        for i in range(15):\n",
    "            runtime =  data[start_index + i + 1][0] - data[start_index + i][0]\n",
    "            points = data[start_index + i][1]\n",
    "            model.big_V[:len(points)] = points\n",
    "            model.simple_run(0.01, runtime, show_progress=False)\n",
    "    \n",
    "        start_index += 15\n",
    "        error = 0\n",
    "        \n",
    "        for i in range(15):\n",
    "            runtime =  data[start_index + i + 1][0] - data[start_index + i][0]\n",
    "            points = data[start_index + i][1]\n",
    "    \n",
    "            model.simple_run(0.01, runtime, show_progress=False)\n",
    "            error += np.sum(np.square(model.big_V[:len(points)] - points))\n",
    "            \n",
    "    except FloatingPointError:\n",
    "        error = 10 ** 10\n",
    "\n",
    "    return error\n"
   ]
  },
  {
   "cell_type": "code",
   "execution_count": 9,
   "id": "928f61b6-3bbe-43b4-b083-1e7bb6c75e69",
   "metadata": {},
   "outputs": [],
   "source": [
    "def reduce2index(array_like):\n",
    "    return [i for i, item in enumerate(array_like.flatten()) if item != 0]\n",
    "\n",
    "def reduce(array_like):\n",
    "    return [item for item in array_like.flatten() if item != 0]\n",
    "\n",
    "def expand(values, indices, shape):\n",
    "    size = 1\n",
    "\n",
    "    for item in shape:\n",
    "        size *= item\n",
    "\n",
    "    items = [0] * size\n",
    "\n",
    "    for i, index in enumerate(indices):\n",
    "        items[index] = values[i]\n",
    "\n",
    "    return np.array(items).reshape(shape)"
   ]
  },
  {
   "cell_type": "code",
   "execution_count": 10,
   "id": "9ec828da-7fee-435f-b744-bb9ef7faec29",
   "metadata": {},
   "outputs": [],
   "source": [
    "class ModelFactory:\n",
    "    def __init__(self, length, G_syn_index, G_gap_index):\n",
    "        self.length = length\n",
    "        self.G_syn_index = G_syn_index\n",
    "        self.G_gap_index = G_gap_index\n",
    "\n",
    "    def get_spec(self):\n",
    "        return self.length, len(self.G_syn_index), len(self.G_gap_index)\n",
    "\n",
    "    def build(self, inital_V_value, short_G_syn, short_G_gap, short_E_syn, G_leak, E_leak):\n",
    "\n",
    "        big_V = np.array([inital_V_value] * self.length)\n",
    "        \n",
    "        G_syn = expand(short_G_syn, self.G_syn_index, (self.length, self.length))\n",
    "        E_syn = expand(short_E_syn, self.G_syn_index, (self.length, self.length))\n",
    "        \n",
    "        G_gapjn = expand(short_G_gap, self.G_gap_index, (self.length, self.length))\n",
    "        \n",
    "        return NeuronNetwork(big_V, G_syn, G_gapjn, E_syn, labels=neurons, G_leak = G_leak, E_leak = E_leak)\n",
    "\n",
    "    def build_random(self, rng):\n",
    "        neuron_size, syn_size, gap_size = self.get_spec()\n",
    "\n",
    "        inital_v = rng.uniform(-10, 10)\n",
    "        G_syn = rng.uniform(0, 100, syn_size)\n",
    "        E_syn = rng.uniform(-100, 100, syn_size)\n",
    "        G_gap = rng.uniform(0, 100, gap_size)\n",
    "        G_leak = rng.uniform(0, 100, neuron_size)\n",
    "        E_leak = rng.uniform(-100, 100, neuron_size)\n",
    "\n",
    "        return self.build(inital_v, G_syn, G_gap, E_syn, G_leak, E_leak)"
   ]
  },
  {
   "cell_type": "code",
   "execution_count": 13,
   "id": "f96847c5-be22-4c3d-9486-b2ce82d602a2",
   "metadata": {},
   "outputs": [
    {
     "name": "stdout",
     "output_type": "stream",
     "text": [
      "32.7 s ± 22.8 ms per loop (mean ± std. dev. of 7 runs, 1 loop each)\n"
     ]
    }
   ],
   "source": [
    "%%timeit\n",
    "factory = ModelFactory(len(neurons),\n",
    "                       reduce2index(model.big_G_syn),\n",
    "                       reduce2index(model.big_G_gap))\n",
    "\n",
    "neuron_size, syn_size, gap_size = factory.get_spec()\n",
    "rng = np.random.default_rng(3471)\n",
    "\n",
    "models = [factory.build_random(rng) for i in range(10)]\n",
    "evals = [eval(model, 50, trace_pairs) for model in models]"
   ]
  },
  {
   "cell_type": "code",
   "execution_count": 12,
   "id": "b2d0e988-b874-40d4-ba33-9d4cd8ed941f",
   "metadata": {},
   "outputs": [
    {
     "data": {
      "text/plain": [
       "[178600.0650367371,\n",
       " 269691.58061388356,\n",
       " 160663.424875712,\n",
       " 215622.88413042168,\n",
       " 287234.7054161251,\n",
       " 310470.172257576,\n",
       " 228134.74262299977,\n",
       " 177582.41762163365,\n",
       " 156940.80237352062,\n",
       " 265032.6256356979,\n",
       " 223603.89747492856,\n",
       " 170624.06261818775,\n",
       " 210735.18700456113,\n",
       " 196673.02424813347,\n",
       " 226197.48743809064,\n",
       " 213800.12707146388,\n",
       " 169663.6203905323,\n",
       " 202950.56829198034,\n",
       " 170892.86228037614,\n",
       " 432819.76582474646,\n",
       " 192680.3572468018,\n",
       " 229783.63828708057,\n",
       " 274388.40924473153,\n",
       " 316808.0184194307,\n",
       " 232886.46809778258,\n",
       " 279943.7885531138,\n",
       " 222205.17010862156,\n",
       " 290965.4899304097,\n",
       " 216296.08405867926,\n",
       " 178536.00336362192,\n",
       " 226966.4291302451,\n",
       " 166006.49447164376,\n",
       " 169706.3627466049,\n",
       " 174623.32969180332,\n",
       " 337926.85822736105,\n",
       " 220434.8246688342,\n",
       " 169254.94628275567,\n",
       " 267285.5879765947,\n",
       " 202868.64589502275,\n",
       " 302119.6970442218,\n",
       " 286827.26009175385,\n",
       " 143533.58474739973,\n",
       " 167791.04532587726,\n",
       " 216443.830563712,\n",
       " 200877.3055651274,\n",
       " 261134.25151340337,\n",
       " 184506.99192387846,\n",
       " 241510.9092803942,\n",
       " 269291.89818358386,\n",
       " 230353.16999523214,\n",
       " 186133.33820405637,\n",
       " 208836.07333038328,\n",
       " 139289.95546022884,\n",
       " 188468.31623534413,\n",
       " 307632.32556563255,\n",
       " 193486.4211953653,\n",
       " 278703.145545019,\n",
       " 300155.3085727301,\n",
       " 327363.3847137907,\n",
       " 266427.4537457836,\n",
       " 250804.28459738847,\n",
       " 232374.8446572648,\n",
       " 203519.47832557565,\n",
       " 271531.247515047,\n",
       " 175412.65347599617,\n",
       " 238685.21515765664,\n",
       " 218884.0203523254,\n",
       " 208025.72760248723,\n",
       " 191700.70911047506,\n",
       " 368154.5398181323,\n",
       " 418503.2194632462,\n",
       " 149352.79281016352,\n",
       " 319865.6641003824,\n",
       " 133672.49846290777,\n",
       " 161573.81505806145,\n",
       " 216112.68267050228,\n",
       " 278182.40538889717,\n",
       " 205119.8019545754,\n",
       " 211849.61844851263,\n",
       " 212490.64716582096,\n",
       " 261677.35546210135,\n",
       " 198004.4415782933,\n",
       " 229078.38897280578,\n",
       " 210763.56683860839,\n",
       " 94849.25149630682,\n",
       " 314263.1586250557,\n",
       " 231738.65228680134,\n",
       " 269852.79707547836,\n",
       " 206560.27172471987,\n",
       " 150348.30191676595,\n",
       " 254790.14645277645,\n",
       " 192804.30662073786,\n",
       " 240263.29258136236,\n",
       " 259555.95076500214,\n",
       " 245677.86078074263,\n",
       " 188442.78862353423,\n",
       " 220359.97393998076,\n",
       " 276215.9384769036,\n",
       " 241144.44257282,\n",
       " 199826.57351269983]"
      ]
     },
     "execution_count": 12,
     "metadata": {},
     "output_type": "execute_result"
    }
   ],
   "source": [
    "evals"
   ]
  },
  {
   "cell_type": "code",
   "execution_count": 26,
   "id": "770f956e-2b15-4360-80fc-ff0c46baa67f",
   "metadata": {},
   "outputs": [
    {
     "name": "stdout",
     "output_type": "stream",
     "text": [
      "######################################################################################################################################################################################################################################################################################################################"
     ]
    },
    {
     "data": {
      "text/plain": [
       "53823.49032367453"
      ]
     },
     "execution_count": 26,
     "metadata": {},
     "output_type": "execute_result"
    }
   ],
   "source": [
    "eval(model, 50, trace_pairs)"
   ]
  },
  {
   "cell_type": "code",
   "execution_count": 27,
   "id": "be3113ee-61e7-41f5-949b-a1bce5e7d3ba",
   "metadata": {},
   "outputs": [
    {
     "name": "stdout",
     "output_type": "stream",
     "text": [
      "Neurons 280 (280)\n",
      "V_max = -0.12468994397378985 (0)\n",
      "V_min = -0.12468994397378985 (0)\n"
     ]
    }
   ],
   "source": [
    "new_model.report()"
   ]
  },
  {
   "cell_type": "code",
   "execution_count": 28,
   "id": "ef72771b-3f93-4e0e-9646-fdbaed1828ae",
   "metadata": {},
   "outputs": [
    {
     "name": "stdout",
     "output_type": "stream",
     "text": [
      "##"
     ]
    },
    {
     "data": {
      "text/plain": [
       "10000000000"
      ]
     },
     "execution_count": 28,
     "metadata": {},
     "output_type": "execute_result"
    }
   ],
   "source": [
    "eval(new_model, 50, trace_pairs)"
   ]
  },
  {
   "cell_type": "code",
   "execution_count": null,
   "id": "a4fb0598-2cc6-4f88-8894-a295329eb971",
   "metadata": {},
   "outputs": [],
   "source": []
  }
 ],
 "metadata": {
  "kernelspec": {
   "display_name": "Python 3 (ipykernel)",
   "language": "python",
   "name": "python3"
  },
  "language_info": {
   "codemirror_mode": {
    "name": "ipython",
    "version": 3
   },
   "file_extension": ".py",
   "mimetype": "text/x-python",
   "name": "python",
   "nbconvert_exporter": "python",
   "pygments_lexer": "ipython3",
   "version": "3.9.18"
  }
 },
 "nbformat": 4,
 "nbformat_minor": 5
}
