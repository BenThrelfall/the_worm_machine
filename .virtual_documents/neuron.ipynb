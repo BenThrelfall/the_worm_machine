import numpy as np
import pandas as pd
from matplotlib import pyplot as plt
import time


def I_Ca(m_Ca, V_m, Ca_in):
    P_max = 6
    Ca_out = 2.1
    T = 293.1
    F = 96485.3365
    R = 8.3144626

    #OG functions
    top = Ca_in - Ca_out * np.exp((-2 * F * V_m) / (R * T))
    bottom = 1 - np.exp((-2 * F * V_m) / (R * T))

    #But we approximate with a step function for numeric reasons
    #aprox = 2.1 if V_m < 0 else Ca_in
    
    before = (m_Ca ** 2) * P_max * V_m

    #return before * aprox
    return before * (top / bottom)

def I_K(m_K, V_m):
    G_K = 9.75
    E_K = -81

    return G_K * (m_K ** 3) * (V_m - E_K)

def delta_m_x(alpha, beta, V_m, m_x):
    return alpha(V_m) * (1 - m_x) - beta(V_m) * m_x


# Calcium and Potassium gates
def alpha_K(V_m):
    a = 1
    b = 1
    c = 1

    return c / (1 + np.exp(-a * V_m + b))

def beta_K(V_m):
    a = 1
    b = 1
    c = 1

    return c / (1 + np.exp(-a * V_m + b))

def alpha_Ca(V_m):
    a = 1
    b = -15
    c = 1

    return c / (1 + np.exp(-a * V_m + b))

def beta_Ca(V_m):
    a = 1
    b = 15
    c = 1

    return c / (1 + np.exp(-a * V_m + b))


#calcium-gated potassium channel
def I_SK(m_SK, V_m):
    G_SK = 0.2125
    E_SK = -81

    return G_SK * m_SK * (V_m - E_SK)

def m_inf(Ca_in):
    K_SK = 0.4
    return Ca_in / (Ca_in + K_SK)

def tau_m(Ca_in):
    K_SK = 0.4
    phi_SK = 2.8
    return phi_SK / (Ca_in + K_SK)

def delta_m_SK(Ca_in, m_SK):
    return (m_inf(Ca_in) - m_SK) / tau_m(Ca_in)


# Leakage

def I_leak(V_m):
    G_leak = 0.0525
    E_leak = -74

    return G_leak * (V_m - E_leak)


# Calcium Level

def delta_Ca_in(Ca_in, I_Ca, CaB):
    CaB = 0.05
    k_f = 0.1
    k_b = 0.3
    G_pump = 3.6
    K_pump = 0.75
    B = 30
    F = 96485.3365 #Assuming faraday constant again
    # This is diffusion length and is not provided but probably doesn't matter because the first term will be close to 0
    d_len = 1

    # For my purposes we use F_d instead of F * d_len
    F_d = 13

    return (-1 / (2 * F_d)) * I_Ca + k_b * B * CaB - k_f * Ca_in * B * (1 - CaB) - ((G_pump * Ca_in)/(Ca_in + K_pump))

def delta_CaB(Ca_in, CaB):
    k_f = 0.1
    k_b = 0.3

    return -k_b * CaB + k_f * Ca_in * (1 - CaB)


# Voltage

def delta_V_m(I_K, I_Ca, I_SK, I_leak, I_in):
    C_m = 38.5

    current_sum = -(I_K + I_Ca + I_SK + I_leak) + I_in
    return current_sum / C_m


#Fluorescence

def fluorescence(Ca_in):

    K_YC = 250
    rho = 1.7
    R_max = 9.3
    R_min = 1.4
    
    phi = (Ca_in / K_YC) ** rho
    return (phi * R_max + R_min) / (1 + phi)


def start_sim(time_step, run_time, input_amount=50, in_start=0.4, in_end=0.6):
    input_current = 0
    
    # Set inital values
    V_m = -70
    m_K = 0
    m_Ca = 0
    m_SK = 0
    Ca_in = 0.05
    CaB = 0.01
    t = 0

    # Storage
    V_m_array = []
    m_K_array = []
    m_Ca_array = []
    m_SK_array = []
    Ca_in_array = []
    CaB_array = []
    I_SK_array = []
    I_Ca_array = []
    I_K_array = []
    I_leak_array = []
    I_in_array = []
    time = []

    d_Ca_in_array = []

    time_range = int(run_time / time_step)
    start_index = int(time_range * in_start)
    end_index = int(time_range * in_end)

    for i in range(time_range):
        if i == time_range // 4:
            print("25%")
        if i == time_range // 2:
            print("50%")
        if i == (time_range // 4) * 3:
            print("75%")

        if i == start_index:
            input_current = input_amount
        
        if i == end_index:
            input_current = 0

        # Time stuff
        time.append(t)
        t += time_step
        
        # Calculate deltas
        Ca_current = I_Ca(m_Ca, V_m, Ca_in)
        K_current = I_K(m_K, V_m)
        SK_current = I_SK(m_SK, V_m)
        leak_current = I_leak(V_m)
        
        d_V_m = delta_V_m(K_current, Ca_current, SK_current, leak_current, input_current)
        d_m_K = delta_m_x(alpha_K, beta_K, V_m, m_K)
        d_m_Ca = delta_m_x(alpha_Ca, beta_Ca, V_m, m_Ca)
        d_m_SK = delta_m_SK(Ca_in, m_SK)
        d_Ca_in = delta_Ca_in(Ca_in, Ca_current, CaB)
        d_CaB = delta_CaB(Ca_in, CaB)
    
        #Update
        V_m += d_V_m * time_step
        m_K += d_m_K * time_step
        m_Ca += d_m_Ca * time_step
        m_SK += d_m_SK * time_step
        Ca_in += d_Ca_in * time_step
        CaB += d_CaB * time_step
    
        #Store
        V_m_array.append(V_m)
        m_K_array.append(m_K)
        m_Ca_array.append(m_Ca)
        m_SK_array.append(m_SK)
        Ca_in_array.append(Ca_in)
        CaB_array.append(CaB)
        I_SK_array.append(SK_current)
        I_Ca_array.append(Ca_current)
        I_K_array.append(K_current)
        I_leak_array.append(leak_current)
        I_in_array.append(input_current)
        d_Ca_in_array.append(d_Ca_in)

    return [V_m_array, m_K_array, m_Ca_array, m_SK_array, Ca_in_array, CaB_array, time, I_SK_array, I_Ca_array, I_K_array, I_leak_array, I_in_array, d_Ca_in_array]


def to_z_score(x):
    return (x - np.mean(x)) / np.std(x)


def show_data(res, start=0, end=-1):
    plt.plot(res[6][start:end], res[0][start:end], label='V_m')
    plt.legend(loc='best')
    plt.show()
    plt.plot(res[6][start:end],res[1][start:end], label='m_K')
    plt.plot(res[6][start:end],res[2][start:end], label='m_Ca')
    plt.plot(res[6][start:end],res[3][start:end], label='m_SK')
    plt.legend(loc='best')
    plt.show()
    plt.plot(res[6][start:end],res[4][start:end], label='Ca_in')
    plt.plot(res[6][start:end],res[5][start:end], label='CaB')
    plt.legend(loc='best')
    plt.show()
    plt.plot(res[6][start:end],res[7][start:end], label='I_SK')
    plt.plot(res[6][start:end],res[8][start:end], label='I_Ca')
    plt.plot(res[6][start:end],res[9][start:end], label='I_K')
    plt.plot(res[6][start:end],res[10][start:end], label='I_leak')
    plt.plot(res[6][start:end],res[11][start:end], label='I_in')
    plt.legend(loc='best')
    plt.show()
    plt.plot(res[6][start:end],res[7][start:end], label='I_SK')
    plt.plot(res[6][start:end],res[8][start:end], label='I_Ca')
    plt.plot(res[6][start:end],res[10][start:end], label='I_leak')
    plt.legend(loc='best')
    plt.show()
    # Current by voltage
    #plt.scatter(res[0][start:end:300],res[7][start:end:300], label='I_SK')
    plt.scatter(res[0][start:end:300],res[8][start:end:300], label='I_Ca')
    #plt.scatter(res[0][start:end:300],res[9][start:end:300], label='I_K')
    plt.scatter(res[0][start:end:300],res[10][start:end:300], label='I_leak')
    plt.legend(loc='best')
    plt.show()
    plt.plot(res[6][start:end], res[12][start:end], label='d_Ca_in')
    plt.legend(loc='best')
    plt.show()


results = start_sim(0.01, 1500)


show_data(results)






