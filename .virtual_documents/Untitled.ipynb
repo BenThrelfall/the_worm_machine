import numpy as np


data = [[(i+5+np.sqrt(j)) ** 2 for j in range(1000)] for i in range(10000)]


np_data = np.array(data)



