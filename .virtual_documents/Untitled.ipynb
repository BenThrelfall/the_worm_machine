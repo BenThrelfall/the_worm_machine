import numpy as np
from matplotlib import pyplot as plt
from sklearn.model_selection import train_test_split
import torch
from torch import nn, optim
import time
from torch.utils.data import DataLoader, TensorDataset
import torch.nn.functional as F

from libworm.torch.beta_net import BetaNeuronNet, from_connectome
from libworm.data import connectomes, traces
from libworm import preprocess
from libworm.functions import set_neurons, tcalc_s_inf, set_trace


trace, _, trace_labels, label2index, timestamps = traces.load_trace()
timestamps = timestamps - timestamps[0]
chemical, gapjn = connectomes.load_cook_connectome()
neurons = connectomes.get_main_neurons(chemical, gapjn)
neurons.sort(key=lambda item: f"AAA{label2index[item]:04d}{item}" if item in label2index else item)
default_model = from_connectome(chemical, gapjn, neurons) 
model = from_connectome(chemical, gapjn, neurons)
checkpoint = torch.load("checkpoints/ruby/modellr001dt01.pt")
model.load_state_dict(checkpoint['model_state_dict'])


for param in default_model.parameters():
    print(param)


for param in model.parameters():
    print(param)



