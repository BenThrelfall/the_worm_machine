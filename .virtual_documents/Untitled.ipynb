import numpy as np
from matplotlib import pyplot as plt
import json


with open("data/prediction.json", "r") as file:
    data = json.load(file)


prediction = np.array(data[0])
actual = np.array(data[1])


prediction.shape


actual.shape


plt.plot(prediction)
plt.show()



