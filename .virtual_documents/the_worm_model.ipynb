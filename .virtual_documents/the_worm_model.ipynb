import json
import numpy as np
import pandas as pd
from matplotlib import pyplot as plt
import json
from sklearn.model_selection import train_test_split
import torch
from torch import nn, optim
import time
from torch.utils.data import DataLoader, TensorDataset





# Import connectome data

gapjn = {}
chemical = {}

# Gap Junction
gap_csv = pd.read_csv("gapjn.csv").fillna(0)
gap_data = gap_csv.values[:, 1:]
gap_labels = gap_csv.values[:, 0]

for i, label in enumerate(gap_labels):
    row_dict = {}
    for j, tag in enumerate(gap_labels):
        row_dict[tag] = gap_data[i, j]

    gapjn[label] = row_dict

# Chemical 
chem_csv = pd.read_csv("chemical.csv").fillna(0)
chem_data = chem_csv.values[:, 1:]
chem_labels = chem_csv.values[:, 0]
chem_cols = chem_csv.columns[1:]

for i, label in enumerate(chem_labels):
    row_dict = {}
    for j, tag in enumerate(chem_cols):
        row_dict[tag] = chem_data[i, j]

    chemical[label] = row_dict





queue = {'PLML', 'PLMR'}
visited = set()

while len(queue) > 0:

    neuron = queue.pop()

    if neuron not in chemical or neuron not in gapjn:
        continue
    
    visited.add(neuron)
    
    syn = {key for key in chemical[neuron] if chemical[neuron][key] != 0}
    gap = {} # {key for key in gapjn[neuron] if gapjn[neuron][key] != 0}

    comb = syn.union(gap)
    comb = comb.difference(visited)

    queue = queue.union(comb)
    

labels = list(visited)
labels.sort()
len(labels)





# Import neuron data

with open("data/2022-08-02-01.json", "r") as file:
    data_text = file.read()
    data_dict = json.loads(data_text)
    neuron_labels = data_dict["labeled"]
    neuron_trace = np.array(data_dict["trace_original"]).T
    neuron_z_trace = np.array(data_dict["trace_array"])

with open("neuron_list.txt", "r") as file:
    trace_labels = [line.strip() for line in file.readlines()]

label2index = {}

for key in neuron_labels:
    label = neuron_labels[key]['label']
    if '?' in label:
        continue
    label2index[label] = int(key) - 1


neuron_trace.shape


neuron_z_trace.shape


plt.plot(neuron_z_trace.T)
plt.show()


for i in range(0, 150, 40):
    plt.plot(neuron_trace[i])





def normalise_trace(trace):
    min = np.min(trace, axis=1)
    return (trace.T - min) / min


np.min(neuron_trace, axis=1).shape


norm_trace = normalise_trace(neuron_trace).T


plt.plot(norm_trace.T)
plt.show()


ax, fig = plt.subplots(1, ncols=3, figsize=(15,4))


for i in range(0, 150, 40):
    fig[0].plot(neuron_z_trace[i])
    fig[1].plot(neuron_trace[i])
    fig[2].plot(norm_trace[i])





def trace2volt(trace):

    base = -30.0
    co = 5.0
    
    return base + co * trace


voltage_trace = trace2volt(neuron_z_trace)
plt.plot(voltage_trace.T)
plt.show()








with open("neuron_table.json", "r") as file:
    neuron_info_table = json.load(file)

neuron_info = {}
for entry in neuron_info_table:
    neuron_info[entry['name']] = entry








gaba_list = {"DVB", "AVL", "RIS", "DD01", "DD02", "DD03",
             "DD04", "DD05", "DD06","VD01","VD02","VD03",
             "VD04","VD05","VD06","VD07","VD08","VD09",
             "VD10","VD11","VD12","VD13", "RMED",
             "RMEL", "RMER", "RMEV"}





full_sensory_list = {"ASIL","ASIR","ASJL","ASJR","AWAL","AWAR",
                "ASGL","ASGR","AWBL","AWBR","ASEL","ASER",
                "ADFL","ADFR","AFDL","AFDR","AWCL","AWCR",
                "ASKL","ASKR","ASHL","ASHR","ADLL","ADLR",
                "BAGL","BAGR","URXL","URXR","ALNL","ALNR",
                "PLNL","PLNR","SDQL","SDQR","AQR","PQR",
                "ALML","ALMR","AVM","PVM","PLML","PLMR",
                "FLPL","FLPR","DVA","PVDL","PVDR","ADEL",
                "ADER","PDEL","PDER","PHAL","PHAR","PHBL",
                "PHBR","PHCL","PHCR","IL2DL","IL2DR","IL2L",
                "IL2R","IL2VL","IL2VR","CEPDL","CEPDR","CEPVL",
                "CEPVR","URYDL","URYDR","URYVL","URYVR","OLLL",
                "OLLR","OLQDL","OLQDR","OLQVL","OLQVR","IL1DL",
                "IL1DR","IL1L","IL1R","IL1VL","IL1VR"}

# Sensory neurons we have the traces for
got_sens = full_sensory_list.intersection(trace_labels)


print(len(full_sensory_list))
print(len(got_sens))









