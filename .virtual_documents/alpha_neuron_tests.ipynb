import numpy as np
import alpha_neuron as an
import importlib
importlib.reload(an)


V = np.array([-40.0, -40.0])
G_syn = np.array([[0.0, 0.0], [0.0,0.0]])
G_gap = np.array([[0.0, 0.0], [0.0,0.0]])

net = an.NeuronNetwork(V, G_syn, G_gap)


net.simple_run(0.001, 5.0)


net.show_all_data()



