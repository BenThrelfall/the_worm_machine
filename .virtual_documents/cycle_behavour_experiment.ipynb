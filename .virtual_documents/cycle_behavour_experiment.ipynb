import numpy as np
from matplotlib import pyplot as plt
from sklearn.model_selection import train_test_split
import time

from libworm.model.beta_neuron import NeuronNetwork, from_connectome
from libworm.data import connectomes, traces
from libworm import preprocess
from libworm.functions import set_neurons, tcalc_s_inf, set_trace

import json


big_V = np.array([-60.0, 60.0])

big_E = np.array([[0.0, 0.0],
                   [-100.0, 0.0]])

big_G_syn = np.array([[0.0, 100.0],
                      [100.0, 0.0]])

big_G_gap = np.zeros((2,2))


model = NeuronNetwork(big_V, big_G_syn, big_G_gap, big_E, G_leak=1, E_leak=np.array([-80.0, -15.0]))


model.simple_run(0.001, 100.0, limiter=True)


model.show_all_data()



