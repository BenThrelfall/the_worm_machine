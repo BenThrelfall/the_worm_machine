{
 "cells": [
  {
   "cell_type": "code",
   "execution_count": 1,
   "id": "d94c67ce-26a0-4e57-8721-086e04554b6c",
   "metadata": {},
   "outputs": [],
   "source": [
    "import numpy as np\n",
    "from matplotlib import pyplot as plt\n",
    "from sklearn.model_selection import train_test_split\n",
    "import torch\n",
    "from torch import nn, optim\n",
    "import time\n",
    "from torch.utils.data import DataLoader, TensorDataset\n",
    "import torch.nn.functional as F\n",
    "\n",
    "from libworm.torch.beta_net import BetaNeuronNet, from_connectome\n",
    "from libworm.data import connectomes, traces\n",
    "from libworm import preprocess\n",
    "from libworm.functions import set_neurons, tcalc_s_inf, set_trace\n",
    "from libworm.training import basic_train"
   ]
  },
  {
   "cell_type": "code",
   "execution_count": 2,
   "id": "131ef908-421e-4c24-8529-68bb6e4735e3",
   "metadata": {},
   "outputs": [],
   "source": [
    "def new_s(V_m):\n",
    "    a_r = 1\n",
    "    a_d = 5\n",
    "    beta = 0.125\n",
    "    V_th = -15 #??\n",
    "    sig = 1 / (1 + np.exp(-beta * (V_m - V_th)))\n",
    "\n",
    "    return (a_r * sig) / (a_r * sig + a_d)"
   ]
  },
  {
   "cell_type": "code",
   "execution_count": 3,
   "id": "8ac04bfc-a6d6-4846-92a5-1a531429ba23",
   "metadata": {},
   "outputs": [],
   "source": [
    "torch.manual_seed(4687)\n",
    "\n",
    "trace, _, trace_labels, label2index, timestamps = traces.load_trace()\n",
    "timestamps = timestamps - timestamps[0]\n",
    "\n",
    "chemical, gapjn = connectomes.load_cook_connectome()\n",
    "neurons = connectomes.get_main_neurons(chemical, gapjn)\n",
    "neurons.sort(key=lambda item: f\"AAA{label2index[item]:04d}{item}\" if item in label2index else item)\n",
    "model = from_connectome(chemical, gapjn, neurons)\n",
    "\n",
    "cell = \"SMBVR\"\n",
    "\n",
    "first_removal = [label2index[key] for key in label2index if key not in neurons]\n",
    "trace = np.delete(trace, first_removal, axis=0)\n",
    "\n",
    "del_index = 0\n",
    "size = trace.shape[0]\n",
    "\n",
    "for i in range(size):\n",
    "    if i not in label2index.values():\n",
    "        trace = np.delete(trace, (del_index), axis=0)\n",
    "    else:\n",
    "        del_index += 1\n",
    "\n",
    "voltage = preprocess.trace2volt(trace)\n",
    "\n",
    "points, labels = preprocess.window_split(voltage, window_size = 16, points_size = 15)\n",
    "points = torch.from_numpy(np.squeeze(points))\n",
    "labels = torch.from_numpy(np.squeeze(labels))\n",
    "\n",
    "train_x, test_x, train_y, test_y = train_test_split(points, labels, train_size=0.1)\n",
    "\n",
    "optimiser = optim.Adam(model.parameters(), lr=0.001)\n",
    "crit = nn.MSELoss()"
   ]
  },
  {
   "cell_type": "code",
   "execution_count": 11,
   "id": "93d48d65-82ca-494e-bca1-184a0000a9e5",
   "metadata": {},
   "outputs": [
    {
     "data": {
      "text/plain": [
       "torch.Size([1584, 101])"
      ]
     },
     "execution_count": 11,
     "metadata": {},
     "output_type": "execute_result"
    }
   ],
   "source": [
    "labels.shape"
   ]
  },
  {
   "cell_type": "code",
   "execution_count": 5,
   "id": "fd6e73c7-7b79-489c-a632-b1233c333f76",
   "metadata": {},
   "outputs": [],
   "source": [
    "results = []\n",
    "\n",
    "sim_time = 0.0\n",
    "next_timestamp = 0.62\n",
    "timestep = 0.01\n",
    "\n",
    "voltage = torch.ones((len(neurons))) * -20.0\n",
    "gates = torch.ones((len(neurons))) * -20.0\n",
    "\n",
    "inter = F.pad(labels[0, :], (0, voltage.shape[0] - labels.shape[1]), \"constant\", 0.0)\n",
    "voltage = voltage.where(inter == 0.0, inter)\n",
    "gates = tcalc_s_inf(voltage)\n",
    "\n",
    "with torch.no_grad():\n",
    "    while sim_time < next_timestamp:\n",
    "        voltage, gates,_,_ = model(voltage, gates, timestep)\n",
    "        sim_time += timestep\n",
    "        results.append(voltage.detach().numpy())\n",
    "\n",
    "    loss = crit(labels[1, :], voltage[:labels.shape[1]])\n",
    "\n",
    "results = np.array(results)"
   ]
  },
  {
   "cell_type": "code",
   "execution_count": 6,
   "id": "effdd270-9671-43da-924c-7f8527483ca5",
   "metadata": {},
   "outputs": [
    {
     "data": {
      "text/plain": [
       "tensor(8.3209e+38, dtype=torch.float64)"
      ]
     },
     "execution_count": 6,
     "metadata": {},
     "output_type": "execute_result"
    }
   ],
   "source": [
    "loss"
   ]
  },
  {
   "cell_type": "code",
   "execution_count": 46,
   "id": "b3d691a9-9ee2-4ddf-a739-4466ac34cfab",
   "metadata": {},
   "outputs": [
    {
     "data": {
      "text/plain": [
       "(70, 280)"
      ]
     },
     "execution_count": 46,
     "metadata": {},
     "output_type": "execute_result"
    }
   ],
   "source": [
    "results.shape"
   ]
  },
  {
   "cell_type": "code",
   "execution_count": 47,
   "id": "2e95521d-fb44-464d-9b95-6eea638478ba",
   "metadata": {},
   "outputs": [
    {
     "data": {
      "image/png": "[encoded data removed]",
      "text/plain": [
       "<Figure size 640x480 with 1 Axes>"
      ]
     },
     "metadata": {},
     "output_type": "display_data"
    }
   ],
   "source": [
    "data_times = []\n",
    "\n",
    "times = [i * 0.01 for i in range(70)]\n",
    "\n",
    "i = 0\n",
    "while i * 0.60156 < 1.0:\n",
    "    data_times.append(i * 0.60156)\n",
    "    i += 1\n",
    "\n",
    "plt.plot(times, results[:, :10])\n",
    "#plt.plot(data_times, labels.detach().numpy()[:len(data_times), :10])\n",
    "\n",
    "plt.show()"
   ]
  },
  {
   "cell_type": "code",
   "execution_count": 7,
   "id": "674579a6-7881-41ee-9589-3ea97315ecd0",
   "metadata": {
    "scrolled": true
   },
   "outputs": [
    {
     "name": "stdout",
     "output_type": "stream",
     "text": [
      "Batch Complete: Time -2.8113067150115967 Loss: 332.57322474223264\n",
      "Batch Complete: Time -3.3575000762939453 Loss: 336.14648477129964\n",
      "Batch Complete: Time -2.834810972213745 Loss: 331.0942253092205\n"
     ]
    },
    {
     "ename": "KeyboardInterrupt",
     "evalue": "",
     "output_type": "error",
     "traceback": [
      "\u001b[0;31m---------------------------------------------------------------------------\u001b[0m",
      "\u001b[0;31mKeyboardInterrupt\u001b[0m                         Traceback (most recent call last)",
      "Cell \u001b[0;32mIn[7], line 1\u001b[0m\n\u001b[0;32m----> 1\u001b[0m results \u001b[38;5;241m=\u001b[39m \u001b[43mbasic_train\u001b[49m\u001b[43m(\u001b[49m\u001b[43mmodel\u001b[49m\u001b[43m,\u001b[49m\u001b[43m \u001b[49m\u001b[43mcrit\u001b[49m\u001b[43m,\u001b[49m\u001b[43m \u001b[49m\u001b[43moptimiser\u001b[49m\u001b[43m,\u001b[49m\n\u001b[1;32m      2\u001b[0m \u001b[43m                \u001b[49m\u001b[43mtrain_x\u001b[49m\u001b[43m,\u001b[49m\u001b[43m \u001b[49m\u001b[43mtrain_y\u001b[49m\u001b[43m,\u001b[49m\u001b[43m \u001b[49m\u001b[43mneurons\u001b[49m\u001b[43m,\u001b[49m\n\u001b[1;32m      3\u001b[0m \u001b[43m                \u001b[49m\u001b[43mepoches\u001b[49m\u001b[38;5;241;43m=\u001b[39;49m\u001b[38;5;241;43m30\u001b[39;49m\u001b[43m,\u001b[49m\u001b[43m \u001b[49m\u001b[43mbatch\u001b[49m\u001b[38;5;241;43m=\u001b[39;49m\u001b[38;5;241;43m6\u001b[39;49m\u001b[43m,\u001b[49m\u001b[43m \u001b[49m\u001b[43mtimestep\u001b[49m\u001b[38;5;241;43m=\u001b[39;49m\u001b[38;5;241;43m0.01\u001b[39;49m\u001b[43m)\u001b[49m\n",
      "File \u001b[0;32m~/Projects/the_worm_project/libworm/training.py:40\u001b[0m, in \u001b[0;36mbasic_train\u001b[0;34m(model, criterion, optimizer, points, labels, cell_labels, epoches, batch, timestep, data_timestep, do_print)\u001b[0m\n\u001b[1;32m     38\u001b[0m             next_timestamp \u001b[38;5;241m+\u001b[39m\u001b[38;5;241m=\u001b[39m data_timestep\n\u001b[1;32m     39\u001b[0m             \u001b[38;5;28;01mbreak\u001b[39;00m;\n\u001b[0;32m---> 40\u001b[0m         voltage, gates,_,_ \u001b[38;5;241m=\u001b[39m model(voltage, gates, timestep)\n\u001b[1;32m     41\u001b[0m         sim_time \u001b[38;5;241m+\u001b[39m\u001b[38;5;241m=\u001b[39m timestep\n\u001b[1;32m     43\u001b[0m \u001b[38;5;28;01mwhile\u001b[39;00m sim_time \u001b[38;5;241m<\u001b[39m next_timestamp:\n",
      "File \u001b[0;32m~/miniconda3/envs/main/lib/python3.9/site-packages/torch/nn/modules/module.py:1194\u001b[0m, in \u001b[0;36mModule._call_impl\u001b[0;34m(self, *input, **kwargs)\u001b[0m\n\u001b[1;32m   1190\u001b[0m \u001b[38;5;66;03m# If we don't have any hooks, we want to skip the rest of the logic in\u001b[39;00m\n\u001b[1;32m   1191\u001b[0m \u001b[38;5;66;03m# this function, and just call forward.\u001b[39;00m\n\u001b[1;32m   1192\u001b[0m \u001b[38;5;28;01mif\u001b[39;00m \u001b[38;5;129;01mnot\u001b[39;00m (\u001b[38;5;28mself\u001b[39m\u001b[38;5;241m.\u001b[39m_backward_hooks \u001b[38;5;129;01mor\u001b[39;00m \u001b[38;5;28mself\u001b[39m\u001b[38;5;241m.\u001b[39m_forward_hooks \u001b[38;5;129;01mor\u001b[39;00m \u001b[38;5;28mself\u001b[39m\u001b[38;5;241m.\u001b[39m_forward_pre_hooks \u001b[38;5;129;01mor\u001b[39;00m _global_backward_hooks\n\u001b[1;32m   1193\u001b[0m         \u001b[38;5;129;01mor\u001b[39;00m _global_forward_hooks \u001b[38;5;129;01mor\u001b[39;00m _global_forward_pre_hooks):\n\u001b[0;32m-> 1194\u001b[0m     \u001b[38;5;28;01mreturn\u001b[39;00m \u001b[43mforward_call\u001b[49m\u001b[43m(\u001b[49m\u001b[38;5;241;43m*\u001b[39;49m\u001b[38;5;28;43minput\u001b[39;49m\u001b[43m,\u001b[49m\u001b[43m \u001b[49m\u001b[38;5;241;43m*\u001b[39;49m\u001b[38;5;241;43m*\u001b[39;49m\u001b[43mkwargs\u001b[49m\u001b[43m)\u001b[49m\n\u001b[1;32m   1195\u001b[0m \u001b[38;5;66;03m# Do not call functions when jit is used\u001b[39;00m\n\u001b[1;32m   1196\u001b[0m full_backward_hooks, non_full_backward_hooks \u001b[38;5;241m=\u001b[39m [], []\n",
      "File \u001b[0;32m~/Projects/the_worm_project/libworm/torch/beta_net.py:79\u001b[0m, in \u001b[0;36mBetaNeuronNet.forward\u001b[0;34m(self, big_V, big_s, time_step)\u001b[0m\n\u001b[1;32m     75\u001b[0m \u001b[38;5;28;01mdef\u001b[39;00m \u001b[38;5;21mforward\u001b[39m(\u001b[38;5;28mself\u001b[39m, big_V, big_s, time_step):\n\u001b[1;32m     77\u001b[0m     leak_current \u001b[38;5;241m=\u001b[39m \u001b[38;5;28mself\u001b[39m\u001b[38;5;241m.\u001b[39mcalc_I_leak(big_V)\n\u001b[0;32m---> 79\u001b[0m     syn_co \u001b[38;5;241m=\u001b[39m \u001b[38;5;28;43mself\u001b[39;49m\u001b[38;5;241;43m.\u001b[39;49m\u001b[43mcalc_co_syn\u001b[49m\u001b[43m(\u001b[49m\u001b[43mbig_s\u001b[49m\u001b[43m)\u001b[49m\n\u001b[1;32m     80\u001b[0m     syn_int \u001b[38;5;241m=\u001b[39m \u001b[38;5;28mself\u001b[39m\u001b[38;5;241m.\u001b[39mcalc_int_syn(big_s)\n\u001b[1;32m     81\u001b[0m     syn_current \u001b[38;5;241m=\u001b[39m \u001b[38;5;28mself\u001b[39m\u001b[38;5;241m.\u001b[39mcalc_I_syn(big_V, syn_co, syn_int)\n",
      "File \u001b[0;32m~/Projects/the_worm_project/libworm/torch/beta_net.py:21\u001b[0m, in \u001b[0;36mBetaNeuronNet.calc_co_syn\u001b[0;34m(self, big_s)\u001b[0m\n\u001b[1;32m     19\u001b[0m \u001b[38;5;28msum\u001b[39m \u001b[38;5;241m=\u001b[39m \u001b[38;5;241m0\u001b[39m\n\u001b[1;32m     20\u001b[0m \u001b[38;5;28;01mfor\u001b[39;00m j \u001b[38;5;129;01min\u001b[39;00m \u001b[38;5;28mrange\u001b[39m(\u001b[38;5;28mlen\u001b[39m(big_s)):\n\u001b[0;32m---> 21\u001b[0m     \u001b[38;5;28msum\u001b[39m \u001b[38;5;241m+\u001b[39m\u001b[38;5;241m=\u001b[39m \u001b[38;5;28;43mself\u001b[39;49m\u001b[38;5;241;43m.\u001b[39;49m\u001b[43mG_syn\u001b[49m\u001b[43m[\u001b[49m\u001b[43m:\u001b[49m\u001b[43m,\u001b[49m\u001b[43m \u001b[49m\u001b[43mj\u001b[49m\u001b[43m]\u001b[49m\u001b[43m \u001b[49m\u001b[38;5;241;43m*\u001b[39;49m\u001b[43m \u001b[49m\u001b[43mbig_s\u001b[49m\u001b[43m[\u001b[49m\u001b[43mj\u001b[49m\u001b[43m]\u001b[49m\n\u001b[1;32m     22\u001b[0m \u001b[38;5;28;01mreturn\u001b[39;00m \u001b[38;5;28msum\u001b[39m\n",
      "\u001b[0;31mKeyboardInterrupt\u001b[0m: "
     ]
    }
   ],
   "source": [
    "results = basic_train(model, crit, optimiser,\n",
    "                train_x, train_y, neurons,\n",
    "                epoches=30, batch=6, timestep=0.01)"
   ]
  },
  {
   "cell_type": "code",
   "execution_count": 10,
   "id": "7882f007-1dbd-4f38-b31d-fd31e4a74b10",
   "metadata": {},
   "outputs": [],
   "source": [
    "#torch.save({\n",
    "#            'model_state_dict': model.state_dict(),\n",
    "#            'optimizer_state_dict': optimiser.state_dict(),\n",
    "#            }, \"checkpoints/ruby/modellr001dt01.pt\")"
   ]
  },
  {
   "cell_type": "code",
   "execution_count": 4,
   "id": "f78b06ff-0560-45ca-a4ba-bba121fb3a02",
   "metadata": {},
   "outputs": [
    {
     "data": {
      "text/plain": [
       "<All keys matched successfully>"
      ]
     },
     "execution_count": 4,
     "metadata": {},
     "output_type": "execute_result"
    }
   ],
   "source": [
    "checkpoint = torch.load(\"checkpoints/ruby/modellr001dt01.pt\")\n",
    "model.load_state_dict(checkpoint['model_state_dict'])"
   ]
  },
  {
   "cell_type": "code",
   "execution_count": null,
   "id": "e3686a57-9b3e-41a3-9be4-600f02a7c141",
   "metadata": {},
   "outputs": [],
   "source": []
  }
 ],
 "metadata": {
  "kernelspec": {
   "display_name": "Python 3 (ipykernel)",
   "language": "python",
   "name": "python3"
  },
  "language_info": {
   "codemirror_mode": {
    "name": "ipython",
    "version": 3
   },
   "file_extension": ".py",
   "mimetype": "text/x-python",
   "name": "python",
   "nbconvert_exporter": "python",
   "pygments_lexer": "ipython3",
   "version": "3.9.18"
  }
 },
 "nbformat": 4,
 "nbformat_minor": 5
}
