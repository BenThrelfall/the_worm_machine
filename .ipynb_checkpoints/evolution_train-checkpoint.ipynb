{
 "cells": [
  {
   "cell_type": "code",
   "execution_count": 1,
   "id": "9546e1fc-193b-478a-9a1f-5f9d149d56f2",
   "metadata": {},
   "outputs": [],
   "source": [
    "import numpy as np\n",
    "from matplotlib import pyplot as plt\n",
    "from sklearn.model_selection import train_test_split\n",
    "import time\n",
    "\n",
    "from libworm.model.beta_neuron import NeuronNetwork, from_connectome\n",
    "from libworm.data import connectomes, traces\n",
    "from libworm import preprocess\n",
    "from libworm.functions import set_neurons, tcalc_s_inf, set_trace\n",
    "\n",
    "import json"
   ]
  },
  {
   "cell_type": "code",
   "execution_count": 2,
   "id": "aa9584b5-55e5-4e25-b90b-c93ec89a3c90",
   "metadata": {},
   "outputs": [],
   "source": [
    "_, trace, trace_labels, label2index, timestamps = traces.load_trace()\n",
    "timestamps = timestamps - timestamps[0]\n",
    "\n",
    "chemical, gapjn = connectomes.load_cook_connectome()\n",
    "neurons = connectomes.get_main_neurons(chemical, gapjn)\n",
    "neurons.sort(key=lambda item: f\"AAA{label2index[item]:04d}{item}\" if item in label2index else item)\n",
    "model = from_connectome(chemical, gapjn, neurons)\n",
    "\n",
    "cell = \"SMBVR\"\n",
    "\n",
    "first_removal = [label2index[key] for key in label2index if key not in neurons]\n",
    "trace = np.delete(trace, first_removal, axis=0)\n",
    "\n",
    "del_index = 0\n",
    "size = trace.shape[0]\n",
    "\n",
    "for i in range(size):\n",
    "    if i not in label2index.values():\n",
    "        trace = np.delete(trace, (del_index), axis=0)\n",
    "    else:\n",
    "        del_index += 1\n",
    "\n",
    "trace_pairs = [(time, trace[:, i]) for i, time in enumerate(timestamps)]"
   ]
  },
  {
   "cell_type": "code",
   "execution_count": 7,
   "id": "f5b9867d-993d-462b-b017-f5f5eaa9eabb",
   "metadata": {},
   "outputs": [],
   "source": [
    "model.store_data = False"
   ]
  },
  {
   "cell_type": "code",
   "execution_count": 8,
   "id": "6b1f50a3-6db8-4097-8b4f-8b9aba307503",
   "metadata": {},
   "outputs": [
    {
     "name": "stdout",
     "output_type": "stream",
     "text": [
      "################################################################################1.75 s ± 6.36 ms per loop (mean ± std. dev. of 7 runs, 1 loop each)\n"
     ]
    }
   ],
   "source": [
    "model.simple_run(0.01, 10.0, limiter=True, direct_s=True)"
   ]
  },
  {
   "cell_type": "code",
   "execution_count": 1,
   "id": "a84bdc84-4db0-4ae6-ae30-a7920b4edeea",
   "metadata": {},
   "outputs": [],
   "source": [
    "rust_data = [-0.3717164296498336, -0.5569753531591448, -0.38324021352920506, -0.6730764830813435, -0.8607139094023861, -0.28553179583788246, -29.992704649630014, -1.1771129321503049, -1.378184098767624, -0.46973473322379017, -0.3882706597000677, -0.5038216203828438, -0.3446586905306958, -0.7791530022358832, -1.9274008666743447, -0.3717479891306717, -0.4748716224932256, -0.5278043903331233, -1.2243622031336303, -4.948524076679078, -0.7262926698010771, -0.45973480245892456, -0.39524951719919926, -0.2737775037261306, -1.3158630564818907, -1.8677558383556434, -0.7621944361159472, -0.4644528477667241, -0.5767405766776079, -0.8952556355573681, -3.5199037921427427, -0.5284513194671842, -1.4111777505849663, -0.35221051321678526, -0.5895768701265575, -1.1262180158408692, -0.9893423603196022, -2.1033612629285785, -27.772044203006114, -0.5012378341034557, -30.943517103719024, -0.9747370547335571, -2.911819887268399, -0.4532856854605769, -3.3370336019982494, -0.3652981286947664, -0.5600468319122841, -0.24234261060459308, -0.8129138791221939, -0.5210321604512541, -0.43749515884731166, -0.4546279443859853, -0.37204023401613723, -0.6332360756560383, -2.154764419418249, -0.8374708336310857, -0.48993951629368604, -0.6319445642080306, -0.37028421141974005, -0.5140724788194867, -0.24572144523003936, -34.50627950932536, -0.32826669575912454, -0.6511867122444528, -0.4658947498597346, -1.4092673417750312, -0.3972859525933533, -1.6151295892813475, -1.1848989182804135, -0.4698846427089273, -0.5095660173498471, -3.0032021387472345, -2.926655457622167, -1.420280709541503, -1.5519973079842402, -0.2986297174729626, -40.133506226836545, -0.5315853005426112, -0.4719557844442887, -0.7763817771227335, -0.5964681415791041, -2.3604514239988896, -1.915368334338337, -0.3567734254742769, -12.808906040057476, -0.5295631620303254, -2.5536401446091452, -0.6353058844968416, -0.4383112280522994, -0.7095664609260875, -0.209277515902298, -0.36504702445376264, -0.4392439179225362, -0.80077439519185, -4.282439795424558, -1.970159307184609, -1.0558187286891874, -0.3709525652060816, -0.4056508902486184, -1.0139172664723006, -0.5870154308174284, -0.30303382408789326, -0.45969310884050973, -0.3056114979769167, -0.6912211964131912, -0.4927000093534824, -0.37536359809158876, -0.3541820375311844, -0.7788289765545308, -0.4542762428290248, -1.3479652051364721, -0.550808089828575, -1.1163514334776397, -1.2793400584280636, -0.7441247974073176, -1.3633501031779847, -0.837102982572034, -0.749385697588622, -1.1944869664091309, -0.4847488532466254, -0.5932407382228283, -0.8753409855956843, -0.6729063242024962, -0.6823731216013905, -1.0222209750848246, -1.1451832453912663, -2.500623729485097, -0.32765337389098986, -0.44168197822609245, -0.7206963028030139, -0.6797568276519856, -1.0642004680785573, -1.3404361992476617, -1.0196351951455815, -0.7518001414747535, -0.6329579670984392, -2.471301108905289, -1.2201117068638792, -2.743250721237495, -3.022303270203544, -2.5710852234124832, -1.2977373444296318, -1.2210460559528098, -0.6784538453526616, -0.3205069783732098, -0.7789709331037726, -0.980636147348503, -0.9114669167741529, -0.570848174698506, -0.7383582921556361, -0.8025555339960649, -0.5159959501190926, -0.6936267259222632, -1.058806124057912, -2.9076433942055746, -3.8610919698648196, -0.8354468564948967, -0.9031214222900811, -3.6172078914705357, -3.742146715770731, -1.100379051849999, -1.4684966618249722, -1.2854239620797172, -36.45342002388177, -43.97401517447271, -40.008465819516324, -38.59341723193142, -41.53206679379379, -27.95139728873641, -1.3686844639064253, -14.01046505010912, -6.291499003779144, -0.8696736473204597, -2.2800074234121626, -4.021367441752746, -1.221638716158679, -1.9407218550714982, -9.319489611190438, -7.725547611843576, -4.424035674005996, -4.036800143835864, -2.469896326968555, -2.9622420734716437, -1.4338110107910305, -2.5178293940489853, -2.009641300769987, -1.8703604044361632, -2.2484585274170406, -2.878772463931222, -1.4453034679825143, -2.229266617144021, -1.6646731298754534, -2.031292540450524, -1.2872314269147258, -1.1921365647099151, -4.603453578597332, -4.886224452867742, -1.2873766015684038, -2.1624820838703958, -4.0376746300547355, -4.542648390889586, -1.2432175425736607, -2.3867790541368055, -2.2083148978173774, -5.849919689628013, -3.6384903103040216, -4.517044740019987, -0.5328433057163623, -2.7534303180421857, -2.8286740732309785, -2.8256531121454858, -1.8793742213412536, -1.2851836011430944, -1.3402452368951652, -2.3827906039901934, -0.23377838402455312, -27.03509390280173, -0.449472068692352, -0.4779600907066757, -0.4154393784509004, -0.7023630913189957, -0.3508230673272013, -0.35339242684009226, -0.761485730556638, -0.6525890145691082, -4.575428050088215, -1.101011468348534, -0.9834769061093581, -0.5003521123264916, -0.7948548435463152, -0.6435115299174611, -0.4768369307080751, -0.9554500412234616, -0.4813986719965172, -0.7862763352562308, -0.5110484233621517, -0.4714005347900639, -1.5099296016016752, -0.6160441896922269, -0.6580728182189448, -3.3239951482775276, -3.379288750824412, -0.6160513354165111, -0.6067193672403814, -0.9231605751874916, -0.9259310112617524, -0.983625226329773, -0.9416262188513019, -1.101875252335539, -1.5593699090028237, -4.561808392571229, -0.6329447523536427, -0.7433515944286923, -0.7384595998020563, -1.019438866997732, -1.1343631390710127, -1.0289270259117207, -1.1504930690548654, -2.9796144398232185, -7.748144396653172, -3.7865654098160393, -10.951183517154975, -9.603829701724592, -8.064181941695825, -3.169905064613933, -2.96753914272656, -5.443102206882208, -28.56252510025893, -39.812720497996736, -41.33461217115783, -44.555908383081956, -44.271395116301555, -41.829551524386375, -43.59653726091729, -43.093359660379406, -36.606963029263405, -42.70880540100812, -33.48969101696588, -28.855237160945695, -22.909320994155927]"
   ]
  },
  {
   "cell_type": "code",
   "execution_count": 2,
   "id": "be7e45dc-6bc1-4252-b2ce-d3d909bd6788",
   "metadata": {},
   "outputs": [
    {
     "ename": "NameError",
     "evalue": "name 'model' is not defined",
     "output_type": "error",
     "traceback": [
      "\u001b[0;31m---------------------------------------------------------------------------\u001b[0m",
      "\u001b[0;31mNameError\u001b[0m                                 Traceback (most recent call last)",
      "Cell \u001b[0;32mIn[2], line 1\u001b[0m\n\u001b[0;32m----> 1\u001b[0m \u001b[43mmodel\u001b[49m\u001b[38;5;241m.\u001b[39mbig_V \u001b[38;5;241m-\u001b[39m rust_data\n",
      "\u001b[0;31mNameError\u001b[0m: name 'model' is not defined"
     ]
    }
   ],
   "source": [
    "model.big_V - rust_data"
   ]
  },
  {
   "cell_type": "code",
   "execution_count": 10,
   "id": "3464fbe9-4b20-413d-ab3d-4352006f852c",
   "metadata": {},
   "outputs": [],
   "source": [
    "with open(\"processed_data/neurons.json\", \"w\") as file:\n",
    "    json.dump(neurons, file)"
   ]
  },
  {
   "cell_type": "code",
   "execution_count": 3,
   "id": "041269a7-812b-4f36-9a7a-e6ab9b9bd361",
   "metadata": {},
   "outputs": [],
   "source": [
    "def eval(model, start_index, data):\n",
    "    np.seterr(all='raise')\n",
    "\n",
    "    try:\n",
    "        for i in range(15):\n",
    "            runtime =  data[start_index + i + 1][0] - data[start_index + i][0]\n",
    "            points = data[start_index + i][1]\n",
    "            model.big_V[:len(points)] = points\n",
    "            model.simple_run(0.01, runtime, show_progress=False)\n",
    "    \n",
    "        start_index += 15\n",
    "        error = 0\n",
    "        \n",
    "        for i in range(15):\n",
    "            runtime =  data[start_index + i + 1][0] - data[start_index + i][0]\n",
    "            points = data[start_index + i][1]\n",
    "    \n",
    "            model.simple_run(0.01, runtime, show_progress=False)\n",
    "            error += np.sum(np.square(model.big_V[:len(points)] - points))\n",
    "            \n",
    "    except FloatingPointError:\n",
    "        error = 10 ** 10\n",
    "\n",
    "    return error\n"
   ]
  },
  {
   "cell_type": "code",
   "execution_count": 4,
   "id": "928f61b6-3bbe-43b4-b083-1e7bb6c75e69",
   "metadata": {},
   "outputs": [],
   "source": [
    "def reduce2index(array_like):\n",
    "    return [i for i, item in enumerate(array_like.flatten()) if item != 0]\n",
    "\n",
    "def reduce(array_like):\n",
    "    return [item for item in array_like.flatten() if item != 0]\n",
    "\n",
    "def expand(values, indices, shape):\n",
    "    size = 1\n",
    "\n",
    "    for item in shape:\n",
    "        size *= item\n",
    "\n",
    "    items = [0] * size\n",
    "\n",
    "    for i, index in enumerate(indices):\n",
    "        items[index] = values[i]\n",
    "\n",
    "    return np.array(items).reshape(shape)"
   ]
  },
  {
   "cell_type": "code",
   "execution_count": 5,
   "id": "9ec828da-7fee-435f-b744-bb9ef7faec29",
   "metadata": {},
   "outputs": [],
   "source": [
    "class ModelFactory:\n",
    "    def __init__(self, length, G_syn_index, G_gap_index):\n",
    "        self.length = length\n",
    "        self.G_syn_index = G_syn_index\n",
    "        self.G_gap_index = G_gap_index\n",
    "\n",
    "    def get_spec(self):\n",
    "        return self.length, len(self.G_syn_index), len(self.G_gap_index)\n",
    "\n",
    "    def build(self, inital_V_value, short_G_syn, short_G_gap, short_E_syn, G_leak, E_leak):\n",
    "\n",
    "        big_V = np.array([inital_V_value] * self.length)\n",
    "        \n",
    "        G_syn = expand(short_G_syn, self.G_syn_index, (self.length, self.length))\n",
    "        E_syn = expand(short_E_syn, self.G_syn_index, (self.length, self.length))\n",
    "        \n",
    "        G_gapjn = expand(short_G_gap, self.G_gap_index, (self.length, self.length))\n",
    "        \n",
    "        return NeuronNetwork(big_V, G_syn, G_gapjn, E_syn, labels=neurons, G_leak = G_leak, E_leak = E_leak)\n",
    "\n",
    "    def build_random(self, rng):\n",
    "        neuron_size, syn_size, gap_size = self.get_spec()\n",
    "\n",
    "        inital_v = rng.uniform(-10, 10)\n",
    "        G_syn = rng.uniform(0, 100, syn_size)\n",
    "        E_syn = rng.uniform(-100, 100, syn_size)\n",
    "        G_gap = rng.uniform(0, 100, gap_size)\n",
    "        G_leak = rng.uniform(0, 100, neuron_size)\n",
    "        E_leak = rng.uniform(-100, 100, neuron_size)\n",
    "\n",
    "        return self.build(inital_v, G_syn, G_gap, E_syn, G_leak, E_leak)"
   ]
  },
  {
   "cell_type": "code",
   "execution_count": 6,
   "id": "f96847c5-be22-4c3d-9486-b2ce82d602a2",
   "metadata": {},
   "outputs": [],
   "source": [
    "factory = ModelFactory(len(neurons),\n",
    "                       reduce2index(model.big_G_syn),\n",
    "                       reduce2index(model.big_G_gap))\n",
    "\n",
    "neuron_size, syn_size, gap_size = factory.get_spec()\n",
    "rng = np.random.default_rng(3471)\n",
    "\n",
    "models = [factory.build_random(rng) for i in range(10)]\n",
    "evals = [eval(model, 50, trace_pairs) for model in models]"
   ]
  },
  {
   "cell_type": "code",
   "execution_count": 26,
   "id": "770f956e-2b15-4360-80fc-ff0c46baa67f",
   "metadata": {},
   "outputs": [
    {
     "name": "stdout",
     "output_type": "stream",
     "text": [
      "######################################################################################################################################################################################################################################################################################################################"
     ]
    },
    {
     "data": {
      "text/plain": [
       "53823.49032367453"
      ]
     },
     "execution_count": 26,
     "metadata": {},
     "output_type": "execute_result"
    }
   ],
   "source": [
    "eval(model, 50, trace_pairs)"
   ]
  },
  {
   "cell_type": "code",
   "execution_count": 8,
   "id": "fbdae2ac-45bc-4603-8e16-f697a3b28bbe",
   "metadata": {},
   "outputs": [
    {
     "data": {
      "text/plain": [
       "78400"
      ]
     },
     "execution_count": 8,
     "metadata": {},
     "output_type": "execute_result"
    }
   ],
   "source": [
    "280*280"
   ]
  },
  {
   "cell_type": "code",
   "execution_count": 27,
   "id": "be3113ee-61e7-41f5-949b-a1bce5e7d3ba",
   "metadata": {},
   "outputs": [
    {
     "name": "stdout",
     "output_type": "stream",
     "text": [
      "Neurons 280 (280)\n",
      "V_max = -0.12468994397378985 (0)\n",
      "V_min = -0.12468994397378985 (0)\n"
     ]
    }
   ],
   "source": [
    "new_model.report()"
   ]
  },
  {
   "cell_type": "code",
   "execution_count": 28,
   "id": "ef72771b-3f93-4e0e-9646-fdbaed1828ae",
   "metadata": {},
   "outputs": [
    {
     "name": "stdout",
     "output_type": "stream",
     "text": [
      "##"
     ]
    },
    {
     "data": {
      "text/plain": [
       "10000000000"
      ]
     },
     "execution_count": 28,
     "metadata": {},
     "output_type": "execute_result"
    }
   ],
   "source": [
    "eval(new_model, 50, trace_pairs)"
   ]
  },
  {
   "cell_type": "code",
   "execution_count": null,
   "id": "a4fb0598-2cc6-4f88-8894-a295329eb971",
   "metadata": {},
   "outputs": [],
   "source": []
  }
 ],
 "metadata": {
  "kernelspec": {
   "display_name": "Python 3 (ipykernel)",
   "language": "python",
   "name": "python3"
  },
  "language_info": {
   "codemirror_mode": {
    "name": "ipython",
    "version": 3
   },
   "file_extension": ".py",
   "mimetype": "text/x-python",
   "name": "python",
   "nbconvert_exporter": "python",
   "pygments_lexer": "ipython3",
   "version": "3.9.18"
  }
 },
 "nbformat": 4,
 "nbformat_minor": 5
}
