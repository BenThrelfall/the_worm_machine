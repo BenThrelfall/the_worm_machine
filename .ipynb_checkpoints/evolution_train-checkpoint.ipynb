{
 "cells": [
  {
   "cell_type": "code",
   "execution_count": 1,
   "id": "9546e1fc-193b-478a-9a1f-5f9d149d56f2",
   "metadata": {},
   "outputs": [],
   "source": [
    "import numpy as np\n",
    "from matplotlib import pyplot as plt\n",
    "from sklearn.model_selection import train_test_split\n",
    "import time\n",
    "\n",
    "from libworm.model.beta_neuron import NeuronNetwork, from_connectome\n",
    "from libworm.data import connectomes, traces\n",
    "from libworm import preprocess\n",
    "from libworm.functions import set_neurons, tcalc_s_inf, set_trace"
   ]
  },
  {
   "cell_type": "code",
   "execution_count": 20,
   "id": "aa9584b5-55e5-4e25-b90b-c93ec89a3c90",
   "metadata": {},
   "outputs": [],
   "source": [
    "_, trace, trace_labels, label2index, timestamps = traces.load_trace()\n",
    "timestamps = timestamps - timestamps[0]\n",
    "\n",
    "chemical, gapjn = connectomes.load_cook_connectome()\n",
    "neurons = connectomes.get_main_neurons(chemical, gapjn, use_gapjn=True)\n",
    "neurons.sort(key=lambda item: f\"AAA{label2index[item]:04d}{item}\" if item in label2index else item)\n",
    "model = from_connectome(chemical, gapjn, neurons)\n",
    "\n",
    "cell = \"SMBVR\"\n",
    "\n",
    "first_removal = [label2index[key] for key in label2index if key not in neurons]\n",
    "trace = np.delete(trace, first_removal, axis=0)\n",
    "\n",
    "del_index = 0\n",
    "size = trace.shape[0]\n",
    "\n",
    "for i in range(size):\n",
    "    if i not in label2index.values():\n",
    "        trace = np.delete(trace, (del_index), axis=0)\n",
    "    else:\n",
    "        del_index += 1\n",
    "\n",
    "trace_pairs = [(time, trace[:, i]) for i, time in enumerate(timestamps)]"
   ]
  },
  {
   "cell_type": "code",
   "execution_count": 29,
   "id": "4707e902-d682-4e9f-ad39-96ecccf1ac01",
   "metadata": {},
   "outputs": [
    {
     "data": {
      "text/plain": [
       "2188"
      ]
     },
     "execution_count": 29,
     "metadata": {},
     "output_type": "execute_result"
    }
   ],
   "source": [
    "len([i for i, item in enumerate(model.big_G_gap.flatten()) if item != 0])"
   ]
  },
  {
   "cell_type": "code",
   "execution_count": 31,
   "id": "0730d80f-0d75-428a-9e92-1e1081bb62cf",
   "metadata": {},
   "outputs": [
    {
     "data": {
      "text/plain": [
       "3707"
      ]
     },
     "execution_count": 31,
     "metadata": {},
     "output_type": "execute_result"
    }
   ],
   "source": [
    "len([i for i, item in enumerate(model.big_G_syn.flatten()) if item != 0])"
   ]
  },
  {
   "cell_type": "code",
   "execution_count": 3,
   "id": "041269a7-812b-4f36-9a7a-e6ab9b9bd361",
   "metadata": {},
   "outputs": [],
   "source": [
    "def eval(model, start_index, data):\n",
    "    \n",
    "    for i in range(15):\n",
    "        runtime =  data[start_index + i + 1][0] - data[start_index + i][0]\n",
    "        points = data[start_index + i][1]\n",
    "        model.big_V[:len(points)] = points\n",
    "        model.simple_run(0.01, runtime)\n",
    "\n",
    "    start_index += 15\n",
    "    error = 0\n",
    "    \n",
    "    for i in range(15):\n",
    "        runtime =  data[start_index + i + 1][0] - data[start_index + i][0]\n",
    "        points = data[start_index + i][1]\n",
    "\n",
    "        model.simple_run(0.01, runtime)\n",
    "        error += np.sum(np.square(model.big_V[:len(points)] - points))\n",
    "\n",
    "    return error\n"
   ]
  },
  {
   "cell_type": "code",
   "execution_count": 32,
   "id": "928f61b6-3bbe-43b4-b083-1e7bb6c75e69",
   "metadata": {},
   "outputs": [],
   "source": [
    "def reduce2index(array_like):\n",
    "    return [i for i, item in enumerate(array_like.flatten()) if item != 0]\n",
    "\n",
    "def reduce(array_like):\n",
    "    return [item for item in array_like.flatten() if item != 0]"
   ]
  },
  {
   "cell_type": "code",
   "execution_count": null,
   "id": "9ec828da-7fee-435f-b744-bb9ef7faec29",
   "metadata": {},
   "outputs": [],
   "source": [
    "class model_factory:\n",
    "    def __init__(self, length, G_syn_index, G_gap_index, E_syn_index):\n",
    "        self.length = length\n",
    "        self.G_syn_index = G_syn_index\n",
    "        self.G_gap_index = G_gap_index\n",
    "        self.E_syn_index = E_syn_index\n",
    "\n",
    "    def build(self, inital_V, short_G_syn, short_G_gap, short_E_syn, G_leak, E_leak):\n",
    "\n",
    "        \n",
    "        \n",
    "        return NeuronNetwork(big_V, G_syn, G_gapjn, E_syn, labels=neurons, G_leak = G_leak, E_leak = E_leak)"
   ]
  }
 ],
 "metadata": {
  "kernelspec": {
   "display_name": "Python 3 (ipykernel)",
   "language": "python",
   "name": "python3"
  },
  "language_info": {
   "codemirror_mode": {
    "name": "ipython",
    "version": 3
   },
   "file_extension": ".py",
   "mimetype": "text/x-python",
   "name": "python",
   "nbconvert_exporter": "python",
   "pygments_lexer": "ipython3",
   "version": "3.9.18"
  }
 },
 "nbformat": 4,
 "nbformat_minor": 5
}
