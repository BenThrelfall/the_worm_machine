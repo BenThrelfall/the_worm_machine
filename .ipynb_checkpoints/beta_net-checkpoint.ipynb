{
 "cells": [
  {
   "cell_type": "code",
   "execution_count": 52,
   "id": "d94c67ce-26a0-4e57-8721-086e04554b6c",
   "metadata": {},
   "outputs": [],
   "source": [
    "import numpy as np\n",
    "import pandas as pd\n",
    "from matplotlib import pyplot as plt\n",
    "import json\n",
    "from sklearn.model_selection import train_test_split\n",
    "import torch\n",
    "from torch import nn, optim\n",
    "import time\n",
    "from torch.utils.data import DataLoader, TensorDataset"
   ]
  },
  {
   "cell_type": "code",
   "execution_count": 53,
   "id": "131ef908-421e-4c24-8529-68bb6e4735e3",
   "metadata": {},
   "outputs": [],
   "source": [
    "def new_s(V_m):\n",
    "    a_r = 1\n",
    "    a_d = 5\n",
    "    beta = 0.125\n",
    "    V_th = -15 #??\n",
    "    sig = 1 / (1 + np.exp(-beta * (V_m - V_th)))\n",
    "\n",
    "    return (a_r * sig) / (a_r * sig + a_d)"
   ]
  },
  {
   "cell_type": "code",
   "execution_count": 85,
   "id": "3f15df2a-b994-4c93-8dc6-a61cf816fd5d",
   "metadata": {},
   "outputs": [
    {
     "name": "stdout",
     "output_type": "stream",
     "text": [
      "<class 'torch.Tensor'> torch.Size([2])\n",
      "<class 'torch.Tensor'> torch.Size([2])\n",
      "<class 'torch.Tensor'> torch.Size([2, 2])\n",
      "<class 'torch.Tensor'> torch.Size([2])\n"
     ]
    }
   ],
   "source": [
    "class BetaNeuronNet(nn.Module):\n",
    "    def __init__(self, G_leak, E_leak, G_syn, E_syn, G_gap):\n",
    "        super().__init__()\n",
    "\n",
    "        self.G_leak = nn.Parameter(torch.from_numpy(G_leak))\n",
    "        self.E_leak = nn.Parameter(torch.from_numpy(E_leak))\n",
    "\n",
    "        self.G_syn = nn.Parameter(torch.from_numpy(G_syn))\n",
    "        self.E_syn = nn.Parameter(torch.from_numpy(E_syn))\n",
    "\n",
    "        self.G_gap = nn.Parameter(torch.from_numpy(G_gap))\n",
    "\n",
    "    def calc_co_syn(self, big_s):\n",
    "        sum = 0\n",
    "        for j in range(len(big_s)):\n",
    "            sum += self.G_syn[:, j] * big_s[j]\n",
    "        return sum    \n",
    "\n",
    "    def calc_int_syn(self, big_s):\n",
    "        sum = 0\n",
    "        for j in range(len(big_s)):\n",
    "            sum += self.G_syn[:, j] * big_s[j] * self.E_syn[j]\n",
    "        return sum    \n",
    "\n",
    "    def calc_I_syn(self, Voltage, co, int):\n",
    "        return Voltage * co - int\n",
    "\n",
    "    # Gapjn coefficent\n",
    "    def calc_co_gap(self):\n",
    "        return torch.sum(self.G_gap, dim=1)\n",
    "    \n",
    "    # Gapjn intercept\n",
    "    def calc_int_gap(self, voltage):\n",
    "        sum = 0\n",
    "        for j in range(len(big_V)):\n",
    "            sum += self.G_gap[:, j] * voltage[j]\n",
    "    \n",
    "        return sum\n",
    "    \n",
    "    # Gapjn current\n",
    "    def calc_I_gap(voltage, co, int):\n",
    "        return voltage * co - int\n",
    "\n",
    "    def calc_I_leak(self, Voltage):    \n",
    "        return self.G_leak * (Voltage - self.E_leak)\n",
    "\n",
    "    def calc_delta_V(self, voltage, I_leak, I_gap, I_syn):\n",
    "        current_sum = -I_leak - I_syn - I_gap\n",
    "        return current_sum\n",
    "\n",
    "    def calc_delta_s(self, Voltage, gate):\n",
    "        a_r = 1\n",
    "        a_d = 5\n",
    "        beta = 0.125\n",
    "        V_th = -15 #??\n",
    "    \n",
    "        sig = 1 / (1 + torch.exp(-beta * (Voltage - V_th)))\n",
    "    \n",
    "        return a_r * sig * (1 - gate) - a_d * gate\n",
    "    \n",
    "    def forward(self, big_V, big_s, time_step):\n",
    "\n",
    "        leak_current = self.calc_I_leak(big_V)\n",
    "\n",
    "        syn_co = self.calc_co_syn(big_s)\n",
    "        syn_int = self.calc_int_syn(big_s)\n",
    "        syn_current = self.calc_I_syn(big_V, syn_co, syn_int)\n",
    "\n",
    "        gap_co = self.calc_co_gap()\n",
    "        gap_int = self.calc_int_gap(big_V)\n",
    "        gap_current = self.calc_I_gap(big_V, gap_co, gap_int)\n",
    "\n",
    "        delta_V = self.calc_delta_V(big_V, leak_current, gap_current, syn_current)\n",
    "        delta_s = self.calc_delta_s(big_V, big_s)\n",
    "\n",
    "        new_V = big_V + (delta_V * time_step)\n",
    "        new_s = big_s + (delta_s * time_step)\n",
    "        \n",
    "        return new_V, new_s, leak_current, syn_current \n",
    "\n",
    "V = torch.from_numpy(np.array([40.0, -40.0]))\n",
    "s = torch.from_numpy(np.array([new_s(40.0), new_s(-40.0)]))\n",
    "G_leak = np.array([10.0 for V_m in V])\n",
    "E_leak = np.array([-35.0 for V_m in V])\n",
    "G_syn = np.array([[0.0, 100.0], [100.0, 50.0]])\n",
    "E_syn = np.array([0.0 for V_m in V])\n",
    "G_gap = np.array([[100.0, 0.0], [0.0, 100.0]])\n",
    "\n",
    "\n",
    "net = BetaNeuronNet(G_leak, E_leak, G_syn, E_syn, G_gap)\n",
    "\n",
    "for param in net.parameters():\n",
    "    print(type(param.data), param.size())"
   ]
  },
  {
   "cell_type": "code",
   "execution_count": 86,
   "id": "a4a16c56-6bed-4001-bc0f-530940cc84f8",
   "metadata": {},
   "outputs": [
    {
     "ename": "AttributeError",
     "evalue": "'BetaNeuronNet' object has no attribute 'G_gap'",
     "output_type": "error",
     "traceback": [
      "\u001b[0;31m---------------------------------------------------------------------------\u001b[0m",
      "\u001b[0;31mAttributeError\u001b[0m                            Traceback (most recent call last)",
      "Cell \u001b[0;32mIn[86], line 6\u001b[0m\n\u001b[1;32m      3\u001b[0m leak_cur \u001b[38;5;241m=\u001b[39m []\n\u001b[1;32m      5\u001b[0m \u001b[38;5;28;01mfor\u001b[39;00m i \u001b[38;5;129;01min\u001b[39;00m \u001b[38;5;28mrange\u001b[39m(\u001b[38;5;241m5\u001b[39m \u001b[38;5;241m*\u001b[39m \u001b[38;5;241m1000\u001b[39m):\n\u001b[0;32m----> 6\u001b[0m     V, s, leak, syn \u001b[38;5;241m=\u001b[39m \u001b[43mnet\u001b[49m\u001b[43m(\u001b[49m\u001b[43mV\u001b[49m\u001b[43m,\u001b[49m\u001b[43m \u001b[49m\u001b[43ms\u001b[49m\u001b[43m,\u001b[49m\u001b[43m \u001b[49m\u001b[38;5;241;43m0.001\u001b[39;49m\u001b[43m)\u001b[49m\n\u001b[1;32m      7\u001b[0m     output\u001b[38;5;241m.\u001b[39mappend(V\u001b[38;5;241m.\u001b[39mdetach()\u001b[38;5;241m.\u001b[39mnumpy())\n\u001b[1;32m      8\u001b[0m     syn_cur\u001b[38;5;241m.\u001b[39mappend(syn\u001b[38;5;241m.\u001b[39mdetach()\u001b[38;5;241m.\u001b[39mnumpy())\n",
      "File \u001b[0;32m~/miniconda3/envs/main/lib/python3.9/site-packages/torch/nn/modules/module.py:1194\u001b[0m, in \u001b[0;36mModule._call_impl\u001b[0;34m(self, *input, **kwargs)\u001b[0m\n\u001b[1;32m   1190\u001b[0m \u001b[38;5;66;03m# If we don't have any hooks, we want to skip the rest of the logic in\u001b[39;00m\n\u001b[1;32m   1191\u001b[0m \u001b[38;5;66;03m# this function, and just call forward.\u001b[39;00m\n\u001b[1;32m   1192\u001b[0m \u001b[38;5;28;01mif\u001b[39;00m \u001b[38;5;129;01mnot\u001b[39;00m (\u001b[38;5;28mself\u001b[39m\u001b[38;5;241m.\u001b[39m_backward_hooks \u001b[38;5;129;01mor\u001b[39;00m \u001b[38;5;28mself\u001b[39m\u001b[38;5;241m.\u001b[39m_forward_hooks \u001b[38;5;129;01mor\u001b[39;00m \u001b[38;5;28mself\u001b[39m\u001b[38;5;241m.\u001b[39m_forward_pre_hooks \u001b[38;5;129;01mor\u001b[39;00m _global_backward_hooks\n\u001b[1;32m   1193\u001b[0m         \u001b[38;5;129;01mor\u001b[39;00m _global_forward_hooks \u001b[38;5;129;01mor\u001b[39;00m _global_forward_pre_hooks):\n\u001b[0;32m-> 1194\u001b[0m     \u001b[38;5;28;01mreturn\u001b[39;00m \u001b[43mforward_call\u001b[49m\u001b[43m(\u001b[49m\u001b[38;5;241;43m*\u001b[39;49m\u001b[38;5;28;43minput\u001b[39;49m\u001b[43m,\u001b[49m\u001b[43m \u001b[49m\u001b[38;5;241;43m*\u001b[39;49m\u001b[38;5;241;43m*\u001b[39;49m\u001b[43mkwargs\u001b[49m\u001b[43m)\u001b[49m\n\u001b[1;32m   1195\u001b[0m \u001b[38;5;66;03m# Do not call functions when jit is used\u001b[39;00m\n\u001b[1;32m   1196\u001b[0m full_backward_hooks, non_full_backward_hooks \u001b[38;5;241m=\u001b[39m [], []\n",
      "Cell \u001b[0;32mIn[85], line 67\u001b[0m, in \u001b[0;36mBetaNeuronNet.forward\u001b[0;34m(self, big_V, big_s, time_step)\u001b[0m\n\u001b[1;32m     64\u001b[0m syn_int \u001b[38;5;241m=\u001b[39m \u001b[38;5;28mself\u001b[39m\u001b[38;5;241m.\u001b[39mcalc_int_syn(big_s)\n\u001b[1;32m     65\u001b[0m syn_current \u001b[38;5;241m=\u001b[39m \u001b[38;5;28mself\u001b[39m\u001b[38;5;241m.\u001b[39mcalc_I_syn(big_V, syn_co, syn_int)\n\u001b[0;32m---> 67\u001b[0m gap_co \u001b[38;5;241m=\u001b[39m \u001b[38;5;28;43mself\u001b[39;49m\u001b[38;5;241;43m.\u001b[39;49m\u001b[43mcalc_co_gap\u001b[49m\u001b[43m(\u001b[49m\u001b[43m)\u001b[49m\n\u001b[1;32m     68\u001b[0m gap_int \u001b[38;5;241m=\u001b[39m \u001b[38;5;28mself\u001b[39m\u001b[38;5;241m.\u001b[39mcalc_int_gap(big_V)\n\u001b[1;32m     69\u001b[0m gap_current \u001b[38;5;241m=\u001b[39m \u001b[38;5;28mself\u001b[39m\u001b[38;5;241m.\u001b[39mcalc_I_gap(big_V, gap_co, gap_int)\n",
      "Cell \u001b[0;32mIn[85], line 28\u001b[0m, in \u001b[0;36mBetaNeuronNet.calc_co_gap\u001b[0;34m(self)\u001b[0m\n\u001b[1;32m     27\u001b[0m \u001b[38;5;28;01mdef\u001b[39;00m \u001b[38;5;21mcalc_co_gap\u001b[39m(\u001b[38;5;28mself\u001b[39m):\n\u001b[0;32m---> 28\u001b[0m     \u001b[38;5;28;01mreturn\u001b[39;00m torch\u001b[38;5;241m.\u001b[39msum(\u001b[38;5;28;43mself\u001b[39;49m\u001b[38;5;241;43m.\u001b[39;49m\u001b[43mG_gap\u001b[49m, dim\u001b[38;5;241m=\u001b[39m\u001b[38;5;241m1\u001b[39m)\n",
      "File \u001b[0;32m~/miniconda3/envs/main/lib/python3.9/site-packages/torch/nn/modules/module.py:1269\u001b[0m, in \u001b[0;36mModule.__getattr__\u001b[0;34m(self, name)\u001b[0m\n\u001b[1;32m   1267\u001b[0m     \u001b[38;5;28;01mif\u001b[39;00m name \u001b[38;5;129;01min\u001b[39;00m modules:\n\u001b[1;32m   1268\u001b[0m         \u001b[38;5;28;01mreturn\u001b[39;00m modules[name]\n\u001b[0;32m-> 1269\u001b[0m \u001b[38;5;28;01mraise\u001b[39;00m \u001b[38;5;167;01mAttributeError\u001b[39;00m(\u001b[38;5;124m\"\u001b[39m\u001b[38;5;124m'\u001b[39m\u001b[38;5;132;01m{}\u001b[39;00m\u001b[38;5;124m'\u001b[39m\u001b[38;5;124m object has no attribute \u001b[39m\u001b[38;5;124m'\u001b[39m\u001b[38;5;132;01m{}\u001b[39;00m\u001b[38;5;124m'\u001b[39m\u001b[38;5;124m\"\u001b[39m\u001b[38;5;241m.\u001b[39mformat(\n\u001b[1;32m   1270\u001b[0m     \u001b[38;5;28mtype\u001b[39m(\u001b[38;5;28mself\u001b[39m)\u001b[38;5;241m.\u001b[39m\u001b[38;5;18m__name__\u001b[39m, name))\n",
      "\u001b[0;31mAttributeError\u001b[0m: 'BetaNeuronNet' object has no attribute 'G_gap'"
     ]
    }
   ],
   "source": [
    "output = []\n",
    "syn_cur = []\n",
    "leak_cur = []\n",
    "\n",
    "for i in range(5 * 1000):\n",
    "    V, s, leak, syn = net(V, s, 0.001)\n",
    "    output.append(V.detach().numpy())\n",
    "    syn_cur.append(syn.detach().numpy())\n",
    "    leak_cur.append(leak.detach().numpy())"
   ]
  },
  {
   "cell_type": "code",
   "execution_count": 87,
   "id": "4fc73e8b-a880-4301-92b1-0bc61da9b10c",
   "metadata": {},
   "outputs": [
    {
     "data": {
      "image/png": "[encoded data removed]",
      "text/plain": [
       "<Figure size 640x480 with 1 Axes>"
      ]
     },
     "metadata": {},
     "output_type": "display_data"
    },
    {
     "ename": "IndexError",
     "evalue": "too many indices for array: array is 1-dimensional, but 2 were indexed",
     "output_type": "error",
     "traceback": [
      "\u001b[0;31m---------------------------------------------------------------------------\u001b[0m",
      "\u001b[0;31mIndexError\u001b[0m                                Traceback (most recent call last)",
      "Cell \u001b[0;32mIn[87], line 7\u001b[0m\n\u001b[1;32m      4\u001b[0m syn_cur \u001b[38;5;241m=\u001b[39m np\u001b[38;5;241m.\u001b[39marray(syn_cur)\n\u001b[1;32m      5\u001b[0m leak_cur \u001b[38;5;241m=\u001b[39m np\u001b[38;5;241m.\u001b[39marray(leak_cur)\n\u001b[0;32m----> 7\u001b[0m plt\u001b[38;5;241m.\u001b[39mplot(\u001b[43msyn_cur\u001b[49m\u001b[43m[\u001b[49m\u001b[43m:\u001b[49m\u001b[43m,\u001b[49m\u001b[43m \u001b[49m\u001b[38;5;241;43m0\u001b[39;49m\u001b[43m]\u001b[49m)\n\u001b[1;32m      8\u001b[0m plt\u001b[38;5;241m.\u001b[39mplot(leak_cur[:, \u001b[38;5;241m0\u001b[39m])\n\u001b[1;32m      9\u001b[0m plt\u001b[38;5;241m.\u001b[39mshow()\n",
      "\u001b[0;31mIndexError\u001b[0m: too many indices for array: array is 1-dimensional, but 2 were indexed"
     ]
    }
   ],
   "source": [
    "plt.plot(output)\n",
    "plt.show()\n",
    "\n",
    "syn_cur = np.array(syn_cur)\n",
    "leak_cur = np.array(leak_cur)\n",
    "\n",
    "plt.plot(syn_cur[:, 0])\n",
    "plt.plot(leak_cur[:, 0])\n",
    "plt.show()\n",
    "\n",
    "plt.plot(syn_cur[:, 1])\n",
    "plt.plot(leak_cur[:, 1])\n",
    "plt.show()"
   ]
  },
  {
   "cell_type": "code",
   "execution_count": null,
   "id": "f12f9ccf-296d-4731-b7de-2a8fefd20a19",
   "metadata": {},
   "outputs": [],
   "source": []
  }
 ],
 "metadata": {
  "kernelspec": {
   "display_name": "Python 3 (ipykernel)",
   "language": "python",
   "name": "python3"
  },
  "language_info": {
   "codemirror_mode": {
    "name": "ipython",
    "version": 3
   },
   "file_extension": ".py",
   "mimetype": "text/x-python",
   "name": "python",
   "nbconvert_exporter": "python",
   "pygments_lexer": "ipython3",
   "version": "3.9.18"
  }
 },
 "nbformat": 4,
 "nbformat_minor": 5
}
