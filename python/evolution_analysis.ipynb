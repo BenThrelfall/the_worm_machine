{
 "cells": [
  {
   "cell_type": "code",
   "execution_count": 1,
   "id": "a9c07c1a-e225-4b42-947e-080a8dbbe1b8",
   "metadata": {},
   "outputs": [],
   "source": [
    "import numpy as np\n",
    "from matplotlib import pyplot as plt\n",
    "import json"
   ]
  },
  {
   "cell_type": "code",
   "execution_count": 2,
   "id": "c156d96b-a21c-4599-98f9-2a21b0dc0e29",
   "metadata": {},
   "outputs": [],
   "source": [
    "with open(\"data/new_prediction.json\", \"r\") as file:\n",
    "    data = json.load(file)"
   ]
  },
  {
   "cell_type": "code",
   "execution_count": 3,
   "id": "e824a638-f57a-45a9-98ef-70ce64742590",
   "metadata": {},
   "outputs": [],
   "source": [
    "prediction = np.array(data[0])\n",
    "actual = np.array(data[1])"
   ]
  },
  {
   "cell_type": "code",
   "execution_count": 4,
   "id": "c1caa152-095e-40f6-832f-a7f040c7ae73",
   "metadata": {},
   "outputs": [
    {
     "data": {
      "text/plain": [
       "(15, 280)"
      ]
     },
     "execution_count": 4,
     "metadata": {},
     "output_type": "execute_result"
    }
   ],
   "source": [
    "prediction.shape"
   ]
  },
  {
   "cell_type": "code",
   "execution_count": 5,
   "id": "1e7449ca-2ac4-47db-b4a6-20f0a70eb8df",
   "metadata": {},
   "outputs": [
    {
     "name": "stdout",
     "output_type": "stream",
     "text": [
      "1.4924227642433971\n",
      "15.348857561095059\n",
      "5.362298575549937\n"
     ]
    }
   ],
   "source": [
    "print(np.std(actual, axis=0).min())\n",
    "print(np.std(actual, axis=0).max())\n",
    "print(np.average(np.std(actual, axis=0)))"
   ]
  },
  {
   "cell_type": "code",
   "execution_count": 6,
   "id": "640815ab-20c4-4995-8f51-3b2e9b6d9bdf",
   "metadata": {},
   "outputs": [
    {
     "name": "stdout",
     "output_type": "stream",
     "text": [
      "0.0\n",
      "5.804680871664317e-14\n",
      "9.781655918540647e-15\n"
     ]
    }
   ],
   "source": [
    "print(np.std(prediction, axis=0).min())\n",
    "print(np.std(prediction, axis=0).max())\n",
    "print(np.average(np.std(prediction, axis=0)))"
   ]
  },
  {
   "cell_type": "code",
   "execution_count": 7,
   "id": "de9dc4cd-fe4a-429e-b723-bf4296bb5649",
   "metadata": {},
   "outputs": [
    {
     "data": {
      "text/plain": [
       "(15, 98)"
      ]
     },
     "execution_count": 7,
     "metadata": {},
     "output_type": "execute_result"
    }
   ],
   "source": [
    "actual.shape"
   ]
  },
  {
   "cell_type": "code",
   "execution_count": 8,
   "id": "04450892-d209-4291-b89d-3613aedfba8c",
   "metadata": {},
   "outputs": [
    {
     "data": {
      "image/png": "[encoded data removed]",
      "text/plain": [
       "<Figure size 640x480 with 1 Axes>"
      ]
     },
     "metadata": {},
     "output_type": "display_data"
    }
   ],
   "source": [
    "plt.plot(prediction)\n",
    "plt.show()"
   ]
  },
  {
   "cell_type": "code",
   "execution_count": null,
   "id": "cc85bc8f-ff45-4663-a3c4-75efb14ca90d",
   "metadata": {},
   "outputs": [],
   "source": []
  }
 ],
 "metadata": {
  "kernelspec": {
   "display_name": "Python 3 (ipykernel)",
   "language": "python",
   "name": "python3"
  },
  "language_info": {
   "codemirror_mode": {
    "name": "ipython",
    "version": 3
   },
   "file_extension": ".py",
   "mimetype": "text/x-python",
   "name": "python",
   "nbconvert_exporter": "python",
   "pygments_lexer": "ipython3",
   "version": "3.9.18"
  }
 },
 "nbformat": 4,
 "nbformat_minor": 5
}
