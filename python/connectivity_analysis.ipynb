{
 "cells": [
  {
   "cell_type": "code",
   "execution_count": 2,
   "id": "c0a48db7-da38-49d5-87eb-526242a8ff76",
   "metadata": {},
   "outputs": [],
   "source": [
    "import numpy as np\n",
    "from matplotlib import pyplot as plt\n",
    "import seaborn as sns\n",
    "from sklearn.model_selection import train_test_split\n",
    "import time\n",
    "\n",
    "from libworm.model.beta_neuron import NeuronNetwork, from_connectome\n",
    "from libworm.data import connectomes, traces\n",
    "from libworm import preprocess\n",
    "from libworm.functions import set_neurons, tcalc_s_inf, set_trace\n",
    "from libworm.data.neuron import full_sensory_list\n",
    "\n",
    "import json\n",
    "\n",
    "from math import tau"
   ]
  },
  {
   "cell_type": "code",
   "execution_count": 3,
   "id": "3b6abfc2-7499-4c63-9fa9-4ea8d96c286e",
   "metadata": {},
   "outputs": [],
   "source": [
    "_, trace, trace_labels, label2index, timestamps = traces.load_trace()\n",
    "chemical, gapjn = connectomes.load_cook_connectome()\n",
    "neurons = connectomes.get_main_neurons(chemical, gapjn)\n",
    "sorted_neurons = [cell for cell in neurons]\n",
    "sorted_neurons.sort(key=lambda item: f\"AAA{label2index[item]:04d}{item}\" if item in label2index else item)"
   ]
  },
  {
   "cell_type": "code",
   "execution_count": 4,
   "id": "06cfa438-50f2-4806-871d-7ef87b558d44",
   "metadata": {},
   "outputs": [
    {
     "data": {
      "text/plain": [
       "6.0"
      ]
     },
     "execution_count": 4,
     "metadata": {},
     "output_type": "execute_result"
    }
   ],
   "source": [
    "chemical[\"ADAL\"][\"ADAL\"]"
   ]
  },
  {
   "cell_type": "code",
   "execution_count": 5,
   "id": "1c51b156-e7dc-4ca5-af54-a101b8706d29",
   "metadata": {},
   "outputs": [],
   "source": [
    "got_neurons = list(label2index.keys())\n",
    "labeled_neurons = [cell for cell in got_neurons if cell in neurons]\n",
    "input_neurons = [cell for cell in labeled_neurons if cell in full_sensory_list]"
   ]
  },
  {
   "cell_type": "code",
   "execution_count": 6,
   "id": "7d198f34-2db7-4ce7-85c7-c21721320730",
   "metadata": {},
   "outputs": [
    {
     "data": {
      "text/plain": [
       "41"
      ]
     },
     "execution_count": 6,
     "metadata": {},
     "output_type": "execute_result"
    }
   ],
   "source": [
    "len(input_neurons)"
   ]
  },
  {
   "cell_type": "code",
   "execution_count": 7,
   "id": "410c7dca-e404-404f-9f59-9df4e1c1aabc",
   "metadata": {},
   "outputs": [],
   "source": [
    "combined = {}\n",
    "\n",
    "# connect[from][to]\n",
    "\n",
    "for from_cell in neurons:\n",
    "    if from_cell in input_neurons:\n",
    "        combined[\"sensory\"] = {} \n",
    "    else:\n",
    "        combined[from_cell] = {} \n",
    "    for to_cell in neurons:\n",
    "        if from_cell in input_neurons and to_cell in input_neurons:\n",
    "            pass\n",
    "        elif from_cell in input_neurons:\n",
    "            combined[\"sensory\"][to_cell] = chemical[from_cell][to_cell] + gapjn[from_cell][to_cell] \n",
    "        elif to_cell in input_neurons:\n",
    "            combined[from_cell][\"sensory\"] = chemical[from_cell][to_cell] + gapjn[from_cell][to_cell] \n",
    "        else:\n",
    "            combined[from_cell][to_cell] = chemical[from_cell][to_cell] + gapjn[from_cell][to_cell] "
   ]
  },
  {
   "cell_type": "code",
   "execution_count": 8,
   "id": "fa461da0-40db-41dd-a1b2-f450005b8ce9",
   "metadata": {},
   "outputs": [],
   "source": [
    "queue = {\"sensory\"}\n",
    "next_queue = set()\n",
    "visited = {}\n",
    "\n",
    "depth = 0\n",
    "\n",
    "while len(queue) != 0:\n",
    "    element = queue.pop()\n",
    "\n",
    "    post = {cell for cell, value in combined[element].items() if value != 0}\n",
    "    not_visited = post - visited.keys() - queue\n",
    "    if element in not_visited:\n",
    "        not_visited.remove(element)\n",
    "    assert(element not in not_visited)\n",
    "    next_queue.update(not_visited)\n",
    "\n",
    "    assert(element not in visited)\n",
    "    visited[element] = depth\n",
    "    \n",
    "    if len(queue) == 0 and len(next_queue) != 0:\n",
    "        queue.update(next_queue)\n",
    "        next_queue.clear()\n",
    "        depth += 1\n"
   ]
  },
  {
   "cell_type": "code",
   "execution_count": 9,
   "id": "786224f6-99fc-4df4-a82e-1777241da52a",
   "metadata": {},
   "outputs": [],
   "source": [
    "with open(\"rust/results/evo_test_run_evals.json\", \"r\") as file:\n",
    "    test_evals = np.array(json.load(file))"
   ]
  },
  {
   "cell_type": "code",
   "execution_count": 10,
   "id": "45f06044-acd6-4b26-8688-294c536d61a2",
   "metadata": {},
   "outputs": [
    {
     "data": {
      "text/plain": [
       "280"
      ]
     },
     "execution_count": 10,
     "metadata": {},
     "output_type": "execute_result"
    }
   ],
   "source": [
    "len(test_evals)"
   ]
  },
  {
   "cell_type": "code",
   "execution_count": 11,
   "id": "e22041a1-2ee0-45f2-b07b-143caf480e5f",
   "metadata": {},
   "outputs": [],
   "source": [
    "eval_by_dist = []\n",
    "\n",
    "for i, cell in enumerate(sorted_neurons):\n",
    "    if cell in visited and test_evals[i] != 0:\n",
    "        eval_by_dist.append([visited[cell], test_evals[i]])\n",
    "\n",
    "eval_by_dist = np.array(eval_by_dist)"
   ]
  },
  {
   "cell_type": "code",
   "execution_count": 13,
   "id": "780e3c17-1a8c-4804-be9e-4cbd96af21e8",
   "metadata": {},
   "outputs": [
    {
     "data": {
      "image/png": "[encoded data removed]",
      "text/plain": [
       "<Figure size 420x400 with 1 Axes>"
      ]
     },
     "metadata": {},
     "output_type": "display_data"
    }
   ],
   "source": [
    "sns.set_theme(style=\"whitegrid\")\n",
    "\n",
    "plt.title(\"(A) Neuron Error by Distance from Inputs\")\n",
    "plt.xlabel(\"Path Length\")\n",
    "plt.ylabel(\"Error (A.U.)\")\n",
    "\n",
    "fig = plt.gcf()\n",
    "fig.set_size_inches(4.2, 4)\n",
    "plt.tight_layout()\n",
    "\n",
    "plt.scatter(eval_by_dist[:, 0], eval_by_dist[:, 1])\n",
    "\n",
    "plt.savefig('img/error_dist.png', dpi=150)\n",
    "plt.show()"
   ]
  },
  {
   "cell_type": "code",
   "execution_count": null,
   "id": "ad6b15df-3b95-45cf-93ea-c32bff5eec3d",
   "metadata": {},
   "outputs": [],
   "source": []
  }
 ],
 "metadata": {
  "kernelspec": {
   "display_name": "Python 3 (ipykernel)",
   "language": "python",
   "name": "python3"
  },
  "language_info": {
   "codemirror_mode": {
    "name": "ipython",
    "version": 3
   },
   "file_extension": ".py",
   "mimetype": "text/x-python",
   "name": "python",
   "nbconvert_exporter": "python",
   "pygments_lexer": "ipython3",
   "version": "3.9.18"
  }
 },
 "nbformat": 4,
 "nbformat_minor": 5
}
