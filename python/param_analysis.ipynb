{
 "cells": [
  {
   "cell_type": "code",
   "execution_count": 1,
   "id": "d484b482-5b7e-4200-be3b-1d88b46c69d8",
   "metadata": {},
   "outputs": [],
   "source": [
    "import numpy as np\n",
    "from matplotlib import pyplot as plt\n",
    "import json"
   ]
  },
  {
   "cell_type": "code",
   "execution_count": 2,
   "id": "19a9e2a2-9979-48bb-8add-cf739772c749",
   "metadata": {},
   "outputs": [],
   "source": [
    "with open(\"rust/final_results/final_full_no_calc.json\", \"r\") as file:\n",
    "    data = json.load(file)"
   ]
  },
  {
   "cell_type": "code",
   "execution_count": 7,
   "id": "f05bc74d-7f6a-4d58-8bd1-f5bb503326ff",
   "metadata": {},
   "outputs": [
    {
     "name": "stdout",
     "output_type": "stream",
     "text": [
      "flat_syn_g\n",
      "mean 51.86087482782777 std 36.85280815861173 min 1.0 max 216.38473248244983\n",
      "\n",
      "flat_syn_e\n",
      "mean -0.6733202965954768 std 66.58659814523992 min -214.30012926385015 max 208.53465205607455\n",
      "\n",
      "flat_gap_g\n",
      "mean 51.836426558039236 std 39.77031633416788 min 1.0 max 392.63948942219884\n",
      "\n",
      "gate_beta\n",
      "mean 0.7935737704639622 std 2.7279640918435826 min -10.0 max 10.0\n",
      "\n",
      "gate_adjust\n",
      "mean 2.5292448631499114 std 38.934349197385124 min -100.0 max 100.0\n",
      "\n",
      "leak_g\n",
      "mean 43.89114938375065 std 32.80808589032592 min 1.0 max 100.0\n",
      "\n",
      "leak_e\n",
      "mean -8.983520325565452 std 60.42495952326059 min -146.07566747484202 max 151.78597370610063\n",
      "\n"
     ]
    }
   ],
   "source": [
    "genome = data[0]['genome']\n",
    "\n",
    "for key in genome:\n",
    "    np_arr = np.array(genome[key])\n",
    "    print(key)\n",
    "    print(f\"mean {np.average(np_arr)} std {np.std(np_arr)} min {np.min(np_arr)} max {np.max(np_arr)}\")\n",
    "    print()"
   ]
  },
  {
   "cell_type": "code",
   "execution_count": null,
   "id": "3ed7b5b3-8c6c-407e-8fef-8175723bba22",
   "metadata": {},
   "outputs": [],
   "source": []
  }
 ],
 "metadata": {
  "kernelspec": {
   "display_name": "Python 3 (ipykernel)",
   "language": "python",
   "name": "python3"
  },
  "language_info": {
   "codemirror_mode": {
    "name": "ipython",
    "version": 3
   },
   "file_extension": ".py",
   "mimetype": "text/x-python",
   "name": "python",
   "nbconvert_exporter": "python",
   "pygments_lexer": "ipython3",
   "version": "3.9.18"
  }
 },
 "nbformat": 4,
 "nbformat_minor": 5
}
