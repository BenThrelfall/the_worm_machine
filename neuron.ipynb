{
 "cells": [
  {
   "cell_type": "code",
   "execution_count": 2,
   "id": "a751b7e9-72a6-424d-81b4-2d65aa4fb679",
   "metadata": {},
   "outputs": [],
   "source": [
    "import numpy as np\n",
    "import pandas as pd\n",
    "from matplotlib import pyplot as plt\n",
    "import time"
   ]
  },
  {
   "cell_type": "code",
   "execution_count": 12,
   "id": "db441108-c2a8-41fd-abc3-9f4d7865c9d6",
   "metadata": {},
   "outputs": [],
   "source": [
    "def I_Ca(m_Ca, V_m, Ca_in):\n",
    "    P_max = 0.006\n",
    "    Ca_out = 2.1\n",
    "    T = 293.1\n",
    "    F = 96485.3365\n",
    "    R = 8.3144626\n",
    "\n",
    "    top = Ca_in - Ca_out * np.exp((-2 * F * V_m) / (R * T))\n",
    "    bottom = 1 - np.exp((-2 * F * V_m) / (R * T))\n",
    "    before = (m_Ca ** 2) * P_max * V_m\n",
    "\n",
    "    return before * (top / bottom)\n",
    "\n",
    "def I_K(m_K, V_m):\n",
    "    G_K = 9.75\n",
    "    E_K = -81\n",
    "\n",
    "    return G_K * (m_K ** 3) * (V_m - E_K)\n",
    "\n",
    "def delta_m_x(alpha, beta, V_m, m_x):\n",
    "    return alpha(V_m) * (1 - m_x) - beta(V_m) * m_x"
   ]
  },
  {
   "cell_type": "code",
   "execution_count": 13,
   "id": "2345c3d3-d9d3-4d53-a65e-34747f032528",
   "metadata": {},
   "outputs": [],
   "source": [
    "# Calcium and Potassium gates\n",
    "def alpha_K(V_m):\n",
    "    a = 1\n",
    "    b = 1\n",
    "    c = 1\n",
    "\n",
    "    return c / (1 + np.exp(-a * V_m + b))\n",
    "\n",
    "def beta_K(V_m):\n",
    "    a = 1\n",
    "    b = 1\n",
    "    c = 1\n",
    "\n",
    "    return c / (1 + np.exp(-a * V_m + b))\n",
    "\n",
    "def alpha_Ca(V_m):\n",
    "    a = 1\n",
    "    b = 1\n",
    "    c = 1\n",
    "\n",
    "    return c / (1 + np.exp(-a * V_m + b))\n",
    "\n",
    "def beta_Ca(V_m):\n",
    "    a = 1\n",
    "    b = 1\n",
    "    c = 1\n",
    "\n",
    "    return c / (1 + np.exp(-a * V_m + b))"
   ]
  },
  {
   "cell_type": "code",
   "execution_count": 14,
   "id": "b3739543-8db4-449e-b863-bc6565aaecb2",
   "metadata": {},
   "outputs": [],
   "source": [
    "#calcium-gated potassium channel\n",
    "def I_SK(m_SK, V_m):\n",
    "    G_SK = 0.2125\n",
    "    E_SK = -81\n",
    "\n",
    "    return G_SK * m_SK * (V_m - E_SK)\n",
    "\n",
    "def m_inf(Ca_in):\n",
    "    K_SK = 0.4\n",
    "    return Ca_in / (Ca_in + K_SK)\n",
    "\n",
    "def tau_m(Ca_in):\n",
    "    K_SK = 0.4\n",
    "    phi_SK = 2.8\n",
    "    return phi_SK / (Ca_in + K_SK)\n",
    "\n",
    "def delta_m_SK(Ca_in, m_SK):\n",
    "    return (m_inf(Ca_in) - m_SK) / tau_m(Ca_in)"
   ]
  },
  {
   "cell_type": "code",
   "execution_count": 15,
   "id": "c37e6c29-aa4f-4ca1-a4ed-7b71a2dc122b",
   "metadata": {},
   "outputs": [],
   "source": [
    "# Leakage\n",
    "\n",
    "def I_leak(V_m):\n",
    "    G_leak = 0.0525\n",
    "    E_leak = -74\n",
    "\n",
    "    return G_leak * (V_m - E_leak)"
   ]
  },
  {
   "cell_type": "code",
   "execution_count": 16,
   "id": "292e59a0-e459-4331-a9bc-a3926e5a4c97",
   "metadata": {},
   "outputs": [],
   "source": [
    "# Calcium Level\n",
    "\n",
    "def delta_Ca_in(Ca_in, I_Ca, CaB):\n",
    "    k_f = 0.1\n",
    "    k_b = 0.3\n",
    "    G_pump = 3.6\n",
    "    K_pump = 0.75\n",
    "    B = 30\n",
    "    F = 96485.3365 #Assuming faraday constant again\n",
    "    d_len = 1 # This is diffusion length and is not provided\n",
    "\n",
    "    return (-1 / 2 * F * d_len) * I_Ca + k_b * B * CaB - k_f * Ca_in * B * (1 - CaB) - (G_pump * Ca_in)/(Ca_in + K_pump)\n",
    "\n",
    "def delta_CaB(Ca_in, CaB):\n",
    "    k_f = 0.1\n",
    "    k_b = 0.3\n",
    "\n",
    "    return -k_b * CaB + k_f * Ca_in * (1 - CaB)"
   ]
  },
  {
   "cell_type": "code",
   "execution_count": 17,
   "id": "1e95aa57-6d1d-42f8-abf9-9c95894edfb9",
   "metadata": {},
   "outputs": [],
   "source": [
    "# Voltage\n",
    "\n",
    "def delta_V_m(I_K, I_Ca, I_SK, I_leak, I_in):\n",
    "    C_m = 38.5\n",
    "\n",
    "    current_sum = -(I_K + I_Ca + I_SK + I_leak) + I_in\n",
    "    return current_sum / C_m"
   ]
  },
  {
   "cell_type": "code",
   "execution_count": 62,
   "id": "9491d29b-3153-423d-adb8-02c90530ab47",
   "metadata": {},
   "outputs": [],
   "source": [
    "def start_sim():\n",
    "\n",
    "    time_step = 0.0001\n",
    "    input_current = 0\n",
    "    \n",
    "    # Set inital values\n",
    "    V_m = 1\n",
    "    m_K = 0\n",
    "    m_Ca = 0\n",
    "    m_SK = 0\n",
    "    Ca_in = 1\n",
    "    CaB = 1\n",
    "\n",
    "    # Storage\n",
    "    V_m_array = []\n",
    "    m_K_array = []\n",
    "    m_Ca_array = []\n",
    "    m_SK_array = []\n",
    "    Ca_in_array = []\n",
    "    CaB_array = []\n",
    "\n",
    "    for i in range(100000):\n",
    "        # Calculate deltas\n",
    "        Ca_current = I_Ca(m_Ca, V_m, Ca_in)\n",
    "        \n",
    "        d_V_m = delta_V_m(I_K(m_K, V_m), Ca_current, I_SK(m_SK, V_m), I_leak(V_m), input_current)\n",
    "        d_m_K = delta_m_x(alpha_K, beta_K, V_m, m_K)\n",
    "        d_m_Ca = delta_m_x(alpha_Ca, beta_Ca, V_m, m_Ca)\n",
    "        d_m_SK = delta_m_SK(Ca_in, m_SK)\n",
    "        d_Ca_in = delta_Ca_in(Ca_in, Ca_current, CaB)\n",
    "        d_CaB = delta_CaB(Ca_in, CaB)\n",
    "    \n",
    "        #Update\n",
    "        V_m += d_V_m * time_step\n",
    "        m_K += d_m_K * time_step\n",
    "        m_Ca += d_m_Ca * time_step\n",
    "        m_SK += d_m_SK * time_step\n",
    "        Ca_in += d_Ca_in * time_step\n",
    "        CaB += d_CaB * time_step\n",
    "    \n",
    "        #Store\n",
    "        V_m_array.append(V_m)\n",
    "        m_K_array.append(m_K)\n",
    "        m_Ca_array.append(m_Ca)\n",
    "        m_SK_array.append(m_SK)\n",
    "        Ca_in_array.append(Ca_in)\n",
    "        CaB_array.append(CaB)\n",
    "\n",
    "    return V_m_array, m_K_array, m_Ca_array, m_SK_array, Ca_in_array, CaB_array"
   ]
  },
  {
   "cell_type": "code",
   "execution_count": 65,
   "id": "aa372146-c50b-415b-8358-9bb368e646c3",
   "metadata": {},
   "outputs": [
    {
     "name": "stderr",
     "output_type": "stream",
     "text": [
      "/tmp/ipykernel_7427/3677509918.py:8: RuntimeWarning: overflow encountered in scalar multiply\n",
      "  top = Ca_in - Ca_out * np.exp((-2 * F * V_m) / (R * T))\n",
      "/tmp/ipykernel_7427/1443278243.py:10: RuntimeWarning: invalid value encountered in scalar divide\n",
      "  return Ca_in / (Ca_in + K_SK)\n",
      "/tmp/ipykernel_7427/764845837.py:12: RuntimeWarning: invalid value encountered in scalar divide\n",
      "  return (-1 / 2 * F * d_len) * I_Ca + k_b * B * CaB - k_f * Ca_in * B * (1 - CaB) - (G_pump * Ca_in)/(Ca_in + K_pump)\n",
      "/tmp/ipykernel_7427/3123645136.py:34: RuntimeWarning: invalid value encountered in scalar add\n",
      "  V_m += d_V_m * time_step\n"
     ]
    },
    {
     "data": {
      "image/png": "[encoded data removed]",
      "text/plain": [
       "<Figure size 640x480 with 1 Axes>"
      ]
     },
     "metadata": {},
     "output_type": "display_data"
    },
    {
     "data": {
      "text/plain": [
       "[<matplotlib.lines.Line2D at 0x7f339d610e20>]"
      ]
     },
     "execution_count": 65,
     "metadata": {},
     "output_type": "execute_result"
    },
    {
     "data": {
      "image/png": "[encoded data removed]",
      "text/plain": [
       "<Figure size 640x480 with 1 Axes>"
      ]
     },
     "metadata": {},
     "output_type": "display_data"
    }
   ],
   "source": [
    "v,_,_,_,Ca,_ = start_sim()\n",
    "plt.plot(v)\n",
    "plt.show()\n",
    "plt.plot(Ca)"
   ]
  },
  {
   "cell_type": "code",
   "execution_count": null,
   "id": "dd4b2e76-f759-49be-8cdd-1d3fe5b7cb33",
   "metadata": {},
   "outputs": [],
   "source": []
  }
 ],
 "metadata": {
  "kernelspec": {
   "display_name": "Python 3 (ipykernel)",
   "language": "python",
   "name": "python3"
  },
  "language_info": {
   "codemirror_mode": {
    "name": "ipython",
    "version": 3
   },
   "file_extension": ".py",
   "mimetype": "text/x-python",
   "name": "python",
   "nbconvert_exporter": "python",
   "pygments_lexer": "ipython3",
   "version": "3.9.18"
  }
 },
 "nbformat": 4,
 "nbformat_minor": 5
}
