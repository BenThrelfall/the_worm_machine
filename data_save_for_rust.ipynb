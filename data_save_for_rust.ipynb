{
 "cells": [
  {
   "cell_type": "code",
   "execution_count": 8,
   "id": "21ff88a8-0172-4966-861a-e6ee42f5a333",
   "metadata": {},
   "outputs": [],
   "source": [
    "import numpy as np\n",
    "from matplotlib import pyplot as plt\n",
    "from sklearn.model_selection import train_test_split\n",
    "import time\n",
    "\n",
    "from libworm.model.beta_neuron import NeuronNetwork, from_connectome\n",
    "from libworm.data import connectomes, traces\n",
    "from libworm import preprocess\n",
    "from libworm.functions import set_neurons, tcalc_s_inf, set_trace\n",
    "from libworm.data.neuron import full_sensory_list\n",
    "\n",
    "import json"
   ]
  },
  {
   "cell_type": "code",
   "execution_count": 9,
   "id": "5d49f3a3-30fc-4e40-91ea-a3328fb7fe54",
   "metadata": {},
   "outputs": [],
   "source": [
    "_, trace, trace_labels, label2index, timestamps = traces.load_trace()\n",
    "timestamps = timestamps - timestamps[0]\n",
    "\n",
    "chemical, gapjn = connectomes.load_cook_connectome()\n",
    "neurons = connectomes.get_main_neurons(chemical, gapjn)\n",
    "neurons.sort(key=lambda item: f\"AAA{label2index[item]:04d}{item}\" if item in label2index else item)\n",
    "model = from_connectome(chemical, gapjn, neurons)\n",
    "\n",
    "cell = \"SMBVR\"\n",
    "\n",
    "not_in_main_section = [label2index[key] for key in label2index if key not in neurons]\n",
    "not_labelled = [i for i, _ in enumerate(trace[:, 0]) if i not in label2index.values()]\n",
    "\n",
    "removal = list(set(not_in_main_section).union(not_labelled))\n",
    "\n",
    "trace = np.delete(trace, removal, axis=0)\n",
    "\n",
    "trace_pairs = [(time, trace[:, i]) for i, time in enumerate(timestamps)]"
   ]
  },
  {
   "cell_type": "code",
   "execution_count": 10,
   "id": "c4f3f3ce-9456-47f9-83d9-ae0af62ec414",
   "metadata": {},
   "outputs": [],
   "source": [
    "with open(\"rust/processed_data/default_g_syn.json\", \"w\") as file:\n",
    "    json.dump(model.big_G_syn.flatten().tolist(), file)"
   ]
  },
  {
   "cell_type": "code",
   "execution_count": 11,
   "id": "dfd27542-19e3-4bd2-9119-585995df655d",
   "metadata": {},
   "outputs": [],
   "source": [
    "with open(\"rust/processed_data/default_g_gap.json\", \"w\") as file:\n",
    "    json.dump(model.big_G_gap.flatten().tolist(), file)"
   ]
  },
  {
   "cell_type": "code",
   "execution_count": 12,
   "id": "d1109941-f494-4050-9426-866b1ded2a16",
   "metadata": {},
   "outputs": [],
   "source": [
    "with open(\"rust/processed_data/default_e_syn.json\", \"w\") as file:\n",
    "    json.dump(model.big_E.flatten().tolist(), file)"
   ]
  },
  {
   "cell_type": "code",
   "execution_count": 13,
   "id": "ae47163b-df34-4d24-baae-b771d8edbce9",
   "metadata": {},
   "outputs": [],
   "source": [
    "with open(\"rust/processed_data/time_trace.json\", \"w\") as file:\n",
    "    json.dump([(time, data.tolist()) for time, data in trace_pairs], file)"
   ]
  },
  {
   "cell_type": "code",
   "execution_count": 18,
   "id": "e3e8fab8-4482-43c0-a95b-c58113a04c3f",
   "metadata": {},
   "outputs": [],
   "source": [
    "sensory_indices = [neurons.index(cell) for cell in full_sensory_list]\n",
    "sensory_indices.sort()\n",
    "\n",
    "with open(\"rust/processed_data/sensory_indices.json\", \"w\") as file:\n",
    "    json.dump(sensory_indices, file)"
   ]
  },
  {
   "cell_type": "code",
   "execution_count": 42,
   "id": "a730892f-a39b-4530-8743-0a5a4b74ef02",
   "metadata": {},
   "outputs": [
    {
     "data": {
      "text/plain": [
       "(280, 280)"
      ]
     },
     "execution_count": 42,
     "metadata": {},
     "output_type": "execute_result"
    }
   ],
   "source": [
    "model.big_G_syn.shape"
   ]
  },
  {
   "cell_type": "code",
   "execution_count": 48,
   "id": "385bff51-b8d3-4a98-8b23-ce9d6db36e3b",
   "metadata": {},
   "outputs": [
    {
     "data": {
      "text/plain": [
       "array([  0.,   0.,   0.,   0.,   0.,   0.,   0.,   0.,   0.,   0.,   0.,\n",
       "         0.,   0.,   0.,   0.,   0.,   0.,   0.,   0.,   0.,   0.,   0.,\n",
       "         0.,   0.,   0.,   0.,   0.,   0.,   0.,   0.,   0.,   0.,   0.,\n",
       "         0.,   0., 100.,   0.,   0.,   0.,   0.,   0.,   0.,   0.,   0.,\n",
       "         0.,   0.,   0.,   0.,   0.,   0.,   0.,   0.,   0.,   0.,   0.,\n",
       "         0.,   0.,   0.,   0.,   0.,   0.,   0.,   0.,   0.,   0.,   0.,\n",
       "         0.,   0.,   0.,   0.,   0.,   0.,   0.,   0.,   0.,   0.,   0.,\n",
       "         0.,   0.,   0.,   0.,   0.,   0.,   0.,   0.,   0.,   0.,   0.,\n",
       "         0.,   0.,   0.,   0.,   0.,   0.,   0.,   0.,   0.,   0.,   0.,\n",
       "         0.,   0.,   0.,   0.,   0.,   0.,   0.,   0.,   0.,   0.,   0.,\n",
       "         0.,   0.,   0.,   0.,   0.,   0.,   0.,   0.,   0.,   0.,   0.,\n",
       "         0.,   0.,   0.,   0.,   0.,   0.,   0.,   0.,   0.,   0.,   0.,\n",
       "         0.,   0.,   0.,   0.,   0.,   0.,   0.,   0.,   0.,   0.,   0.,\n",
       "         0.,   0.,   0.,   0.,   0.,   0.,   0.,   0.,   0.,   0.,   0.,\n",
       "         0.,   0.,   0.,   0.,   0.,   0.,   0.,   0.,   0.,   0.,   0.,\n",
       "         0.,   0.,   0., 100.,   0.,   0.,   0.,   0.,   0.,   0.,   0.,\n",
       "         0.,   0.,   0.,   0.,   0.,   0.,   0.,   0.,   0.,   0.,   0.,\n",
       "         0.,   0.,   0.,   0.,   0.,   0., 100.,   0.,   0.,   0.,   0.,\n",
       "         0.,   0.,   0.,   0.,   0.,   0.,   0., 100.,   0.,   0.,   0.,\n",
       "         0.,   0.,   0.,   0.,   0.,   0.,   0.,   0.,   0.,   0.,   0.,\n",
       "         0.,   0.,   0.,   0.,   0.,   0.,   0.,   0.,   0.,   0.,   0.,\n",
       "         0.,   0.,   0.,   0.,   0.,   0.,   0.,   0.,   0.,   0.,   0.,\n",
       "         0.,   0.,   0.,   0.,   0.,   0.,   0.,   0., 100.,   0.,   0.,\n",
       "         0.,   0.,   0.,   0.,   0.,   0.,   0.,   0.,   0.,   0.,   0.,\n",
       "         0.,   0.,   0.,   0.,   0.,   0.,   0.,   0.,   0.,   0.,   0.,\n",
       "         0.,   0.,   0., 100., 100.])"
      ]
     },
     "execution_count": 48,
     "metadata": {},
     "output_type": "execute_result"
    }
   ],
   "source": [
    "model.big_G_syn[:, -1]"
   ]
  },
  {
   "cell_type": "code",
   "execution_count": 46,
   "id": "6c6789b1-29a6-46ba-8c18-7dbcaabd5380",
   "metadata": {},
   "outputs": [
    {
     "data": {
      "text/plain": [
       "array([[  0.,   0.,   0., ...,   0.,   0.,   0.],\n",
       "       [  0.,   0.,   0., ...,   0.,   0.,   0.],\n",
       "       [  0.,   0.,   0., ...,   0.,   0.,   0.],\n",
       "       ...,\n",
       "       [  0.,   0.,   0., ...,   0.,   0.,   0.],\n",
       "       [  0.,   0.,   0., ...,   0.,   0., 100.],\n",
       "       [  0.,   0.,   0., ...,   0.,   0., 100.]])"
      ]
     },
     "execution_count": 46,
     "metadata": {},
     "output_type": "execute_result"
    }
   ],
   "source": [
    "model.big_G_syn"
   ]
  },
  {
   "cell_type": "code",
   "execution_count": null,
   "id": "01606d0e-a2f8-4c00-bcc7-82a8ab74ff5a",
   "metadata": {},
   "outputs": [],
   "source": []
  }
 ],
 "metadata": {
  "kernelspec": {
   "display_name": "Python 3 (ipykernel)",
   "language": "python",
   "name": "python3"
  },
  "language_info": {
   "codemirror_mode": {
    "name": "ipython",
    "version": 3
   },
   "file_extension": ".py",
   "mimetype": "text/x-python",
   "name": "python",
   "nbconvert_exporter": "python",
   "pygments_lexer": "ipython3",
   "version": "3.9.18"
  }
 },
 "nbformat": 4,
 "nbformat_minor": 5
}
