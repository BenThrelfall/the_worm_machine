{
 "cells": [
  {
   "cell_type": "code",
   "execution_count": 1,
   "id": "8652d165-009f-42b1-b7ae-1cd6437b12d5",
   "metadata": {},
   "outputs": [],
   "source": [
    "import numpy as np\n",
    "import pandas as pd\n",
    "from matplotlib import pyplot as plt\n",
    "import json\n",
    "#from sklearn.model_selection import train_test_split\n",
    "#import torch\n",
    "#from torch import nn, optim\n",
    "import time\n",
    "import beta_neuron as an"
   ]
  },
  {
   "cell_type": "markdown",
   "id": "15c30462-4982-4820-b83a-906e2a3db17d",
   "metadata": {},
   "source": [
    "## Connectome Data"
   ]
  },
  {
   "cell_type": "code",
   "execution_count": 2,
   "id": "f834953c-e1e2-47f0-b186-0adb8b3fdef9",
   "metadata": {},
   "outputs": [],
   "source": [
    "# Import connectome data\n",
    "\n",
    "gapjn = {}\n",
    "chemical = {}\n",
    "\n",
    "# Gap Junction\n",
    "gap_csv = pd.read_csv(\"gapjn.csv\").fillna(0)\n",
    "gap_data = gap_csv.values[:, 1:]\n",
    "gap_labels = gap_csv.values[:, 0]\n",
    "\n",
    "for i, label in enumerate(gap_labels):\n",
    "    row_dict = {}\n",
    "    for j, tag in enumerate(gap_labels):\n",
    "        row_dict[tag] = gap_data[i, j]\n",
    "\n",
    "    gapjn[label] = row_dict\n",
    "\n",
    "# Chemical \n",
    "chem_csv = pd.read_csv(\"chemical.csv\").fillna(0)\n",
    "chem_data = chem_csv.values[:, 1:]\n",
    "chem_labels = chem_csv.values[:, 0]\n",
    "chem_cols = chem_csv.columns[1:]\n",
    "\n",
    "for i, label in enumerate(chem_labels):\n",
    "    row_dict = {}\n",
    "    for j, tag in enumerate(chem_cols):\n",
    "        row_dict[tag] = chem_data[i, j]\n",
    "\n",
    "    chemical[label] = row_dict"
   ]
  },
  {
   "cell_type": "markdown",
   "id": "3db2ff53-3aae-4415-a9a6-7aa0a7b53baf",
   "metadata": {},
   "source": [
    "## Connected sections"
   ]
  },
  {
   "cell_type": "code",
   "execution_count": 3,
   "id": "d25110a6-4309-4c12-bf43-7b46e4da4759",
   "metadata": {},
   "outputs": [
    {
     "data": {
      "text/plain": [
       "280"
      ]
     },
     "execution_count": 3,
     "metadata": {},
     "output_type": "execute_result"
    }
   ],
   "source": [
    "queue = {'PLML', 'PLMR'}\n",
    "visited = set()\n",
    "\n",
    "while len(queue) > 0:\n",
    "\n",
    "    neuron = queue.pop()\n",
    "\n",
    "    if neuron not in chemical or neuron not in gapjn:\n",
    "        continue\n",
    "    \n",
    "    visited.add(neuron)\n",
    "    \n",
    "    syn = {key for key in chemical[neuron] if chemical[neuron][key] != 0}\n",
    "    gap = {} # {key for key in gapjn[neuron] if gapjn[neuron][key] != 0}\n",
    "\n",
    "    comb = syn.union(gap)\n",
    "    comb = comb.difference(visited)\n",
    "\n",
    "    queue = queue.union(comb)\n",
    "    \n",
    "\n",
    "len(visited)"
   ]
  },
  {
   "cell_type": "markdown",
   "id": "cc4e39cc-f5ff-4f95-9a6e-c55a4f1d415f",
   "metadata": {},
   "source": [
    "## Live Imaging Data"
   ]
  },
  {
   "cell_type": "code",
   "execution_count": 4,
   "id": "38bbc458-4ebb-4161-a104-c4431fd97f5b",
   "metadata": {},
   "outputs": [],
   "source": [
    "# Import neuron data\n",
    "\n",
    "with open(\"data/2022-08-02-01.json\", \"r\") as file:\n",
    "    data_text = file.read()\n",
    "    data_dict = json.loads(data_text)\n",
    "    neuron_trace = np.array(data_dict[\"trace_array\"])\n",
    "\n",
    "with open(\"neuron_list.txt\", \"r\") as file:\n",
    "    trace_labels = [line.strip() for line in file.readlines()]"
   ]
  },
  {
   "cell_type": "code",
   "execution_count": 5,
   "id": "0e488039-598d-41e4-86bc-37f36e5753c7",
   "metadata": {},
   "outputs": [
    {
     "data": {
      "text/plain": [
       "(152, 1600)"
      ]
     },
     "execution_count": 5,
     "metadata": {},
     "output_type": "execute_result"
    }
   ],
   "source": [
    "neuron_trace.shape"
   ]
  },
  {
   "cell_type": "markdown",
   "id": "c247624b-7077-49cc-9786-8133f4ac9345",
   "metadata": {},
   "source": [
    "## Neuron Info (from Worm Atlas)"
   ]
  },
  {
   "cell_type": "code",
   "execution_count": 6,
   "id": "0a295817-65d8-460b-8076-c2b0128c4a2b",
   "metadata": {},
   "outputs": [],
   "source": [
    "with open(\"neuron_table.json\", \"r\") as file:\n",
    "    neuron_info_table = json.load(file)\n",
    "\n",
    "neuron_info = {}\n",
    "for entry in neuron_info_table:\n",
    "    neuron_info[entry['name']] = entry"
   ]
  },
  {
   "cell_type": "markdown",
   "id": "6934940b-d6c1-4a31-9439-a068435a53f6",
   "metadata": {},
   "source": [
    "## Neuron Types"
   ]
  },
  {
   "cell_type": "markdown",
   "id": "d1caa649-ace8-4a14-a479-fec041dad124",
   "metadata": {},
   "source": [
    "### GABA Neurons\n",
    "\n",
    "Sourced from \"Structural Properties of the Caenorhabditis elegans Neuronal Network\" for now"
   ]
  },
  {
   "cell_type": "code",
   "execution_count": 7,
   "id": "5ac15ce0-1ad7-414b-a5a1-97b6ec547ec8",
   "metadata": {},
   "outputs": [],
   "source": [
    "gaba_list = {\"DVB\", \"AVL\", \"RIS\", \"DD01\", \"DD02\", \"DD03\",\n",
    "             \"DD04\", \"DD05\", \"DD06\",\"VD01\",\"VD02\",\"VD03\",\n",
    "             \"VD04\",\"VD05\",\"VD06\",\"VD07\",\"VD08\",\"VD09\",\n",
    "             \"VD10\",\"VD11\",\"VD12\",\"VD13\", \"RMED\",\n",
    "             \"RMEL\", \"RMER\", \"RMEV\"}"
   ]
  },
  {
   "cell_type": "markdown",
   "id": "b4d2e494-4791-4345-8a93-5abdbdefbf15",
   "metadata": {},
   "source": [
    "## Sensory Neurons\n",
    "\n",
    "Sourced from cook connectome data"
   ]
  },
  {
   "cell_type": "code",
   "execution_count": 8,
   "id": "7510f734-c0eb-4c59-8886-6c7f6eb6990b",
   "metadata": {},
   "outputs": [
    {
     "name": "stdout",
     "output_type": "stream",
     "text": [
      "OLLL - Lateral outer labial neurons\n",
      "OLQDL - Quadrant outer labial neuron\n",
      "ASHL - Amphid neurons, single ciliated endings\n",
      "AWCL - Amphid wing cells, neurons having ciliated sheet-like sensory endings closely associated with amphid sheath\n",
      "ASGL - Amphid neurons, single ciliated endings\n",
      "OLLR - Lateral outer labial neurons\n",
      "AWAR - Amphid wing cells, neurons having ciliated sheet-like sensory endings closely associated with amphid sheath\n",
      "URXR - Ring interneuron\n",
      "ASEL - Amphid neurons, single ciliated endings\n",
      "OLQVL - Quadrant outer labial neuron\n",
      "IL2VR - Inner labial neuron\n",
      "IL1L - Inner labial neuron\n",
      "CEPVL - Cephalic neurons, contain dopamine\n",
      "IL2DR - Inner labial neuron\n",
      "IL2DL - Inner labial neuron\n",
      "AWBL - Amphid wing cells, neurons having ciliated sheet-like sensory endings closely associated with amphid sheath\n",
      "BAGL - Neuron, ciliated ending in head, no supporting cells, associated with ILso\n",
      "AWBR - Amphid wing cells, neurons having ciliated sheet-like sensory endings closely associated with amphid sheath\n",
      "OLQVR - Quadrant outer labial neuron\n",
      "URYDL - Neuron, presynaptic in ring, ending in head\n",
      "BAGR - Neuron, ciliated ending in head, no supporting cells, associated with ILso\n",
      "URYVL - Neuron, presynaptic in ring, ending in head\n",
      "URYDR - Neuron, presynaptic in ring, ending in head\n",
      "IL2R - Inner labial neuron\n",
      "IL2L - Inner labial neuron\n",
      "FLPL - Neuron, ciliated ending in head, no supporting cells, associated with ILso\n",
      "FLPR - Neuron, ciliated ending in head, no supporting cells, associated with ILso\n",
      "ADEL - Anterior deirid, sensory neuron\n",
      "CEPVR - Cephalic neurons, contain dopamine\n",
      "IL1DL - Inner labial neuron\n",
      "OLQDR - Quadrant outer labial neuron\n",
      "IL1R - Inner labial neuron\n",
      "IL1VR - Inner labial neuron\n",
      "IL1DR - Inner labial neuron\n",
      "CEPDL - Cephalic neurons, contain dopamine\n",
      "ASGR - Amphid neurons, single ciliated endings\n",
      "URXL - Ring interneuron\n",
      "URYVR - Neuron, presynaptic in ring, ending in head\n",
      "ASKL - Amphid neurons, single ciliated endings\n",
      "CEPDR - Cephalic neurons, contain dopamine\n",
      "IL2VL - Inner labial neuron\n"
     ]
    }
   ],
   "source": [
    "full_sensory_list = {\"ASIL\",\"ASIR\",\"ASJL\",\"ASJR\",\"AWAL\",\"AWAR\",\n",
    "                \"ASGL\",\"ASGR\",\"AWBL\",\"AWBR\",\"ASEL\",\"ASER\",\n",
    "                \"ADFL\",\"ADFR\",\"AFDL\",\"AFDR\",\"AWCL\",\"AWCR\",\n",
    "                \"ASKL\",\"ASKR\",\"ASHL\",\"ASHR\",\"ADLL\",\"ADLR\",\n",
    "                \"BAGL\",\"BAGR\",\"URXL\",\"URXR\",\"ALNL\",\"ALNR\",\n",
    "                \"PLNL\",\"PLNR\",\"SDQL\",\"SDQR\",\"AQR\",\"PQR\",\n",
    "                \"ALML\",\"ALMR\",\"AVM\",\"PVM\",\"PLML\",\"PLMR\",\n",
    "                \"FLPL\",\"FLPR\",\"DVA\",\"PVDL\",\"PVDR\",\"ADEL\",\n",
    "                \"ADER\",\"PDEL\",\"PDER\",\"PHAL\",\"PHAR\",\"PHBL\",\n",
    "                \"PHBR\",\"PHCL\",\"PHCR\",\"IL2DL\",\"IL2DR\",\"IL2L\",\n",
    "                \"IL2R\",\"IL2VL\",\"IL2VR\",\"CEPDL\",\"CEPDR\",\"CEPVL\",\n",
    "                \"CEPVR\",\"URYDL\",\"URYDR\",\"URYVL\",\"URYVR\",\"OLLL\",\n",
    "                \"OLLR\",\"OLQDL\",\"OLQDR\",\"OLQVL\",\"OLQVR\",\"IL1DL\",\n",
    "                \"IL1DR\",\"IL1L\",\"IL1R\",\"IL1VL\",\"IL1VR\"}\n",
    "\n",
    "# Sensory neurons we have the traces for\n",
    "got_sens = full_sensory_list.intersection(trace_labels)\n",
    "\n",
    "for cell in got_sens:\n",
    "    info = neuron_info[cell]\n",
    "    print(f\"{info['name']} - {info['desc']}\")"
   ]
  },
  {
   "cell_type": "code",
   "execution_count": 9,
   "id": "c620d55c-b51e-4e68-b34e-17180da32147",
   "metadata": {},
   "outputs": [
    {
     "data": {
      "text/plain": [
       "83"
      ]
     },
     "execution_count": 9,
     "metadata": {},
     "output_type": "execute_result"
    }
   ],
   "source": [
    "len(full_sensory_list)"
   ]
  },
  {
   "cell_type": "markdown",
   "id": "9ab056b2-fad5-4a4d-a2c6-a2d1708be81a",
   "metadata": {},
   "source": [
    "# Model"
   ]
  },
  {
   "cell_type": "code",
   "execution_count": 10,
   "id": "bdd36ea5-21e2-4b77-9610-e7253a78e3c1",
   "metadata": {},
   "outputs": [],
   "source": [
    "labels = list(visited)\n",
    "labels.sort()\n",
    "big_V = np.array([-35.0 for i in labels])\n",
    "G_syn = []\n",
    "E_syn = []\n",
    "G_gapjn = []\n",
    "\n",
    "for cell in labels:\n",
    "    syn_E = 0.0 if cell not in gaba_list else -45.0\n",
    "    E_syn.append(syn_E)\n",
    "\n",
    "for i, to_cell in enumerate(labels):\n",
    "    G_syn.append([])\n",
    "    G_gapjn.append([])\n",
    "    for j, from_cell in enumerate(labels):\n",
    "        syn_value = 100.0 if chemical[from_cell][to_cell] > 0 else 0.0\n",
    "        G_syn[i].append(syn_value)\n",
    "        \n",
    "\n",
    "        gap_value = 100.0 if gapjn[from_cell][to_cell] > 0 else 0.0\n",
    "        G_gapjn[i].append(gap_value)\n",
    "\n",
    "G_syn = np.array(G_syn)\n",
    "G_gapjn = np.array(G_gapjn)"
   ]
  },
  {
   "cell_type": "code",
   "execution_count": 11,
   "id": "cd66880c-46c3-458e-a730-1858225684c1",
   "metadata": {},
   "outputs": [],
   "source": [
    "net = an.NeuronNetwork(big_V, G_syn, G_gapjn, E_syn)"
   ]
  },
  {
   "cell_type": "code",
   "execution_count": 13,
   "id": "ab81fc40-6b97-4ef5-99b5-4373cf1b60e9",
   "metadata": {},
   "outputs": [
    {
     "name": "stdout",
     "output_type": "stream",
     "text": [
      "##########"
     ]
    }
   ],
   "source": [
    "net.simple_run(0.1, 60.0)"
   ]
  },
  {
   "cell_type": "code",
   "execution_count": 14,
   "id": "ebdb059c-c5ae-4a97-8fcc-63b4cc1e18b6",
   "metadata": {},
   "outputs": [
    {
     "name": "stdout",
     "output_type": "stream",
     "text": [
      "V_max = -1.6297874671201318 (181)\n",
      "V_min = -8.77942350932223 (266)\n"
     ]
    }
   ],
   "source": [
    "net.report()"
   ]
  },
  {
   "cell_type": "code",
   "execution_count": 15,
   "id": "4ffa6569-6e4e-4b8e-bafb-fdd7db0ef351",
   "metadata": {},
   "outputs": [
    {
     "data": {
      "image/png": "[encoded data removed]",
      "text/plain": [
       "<Figure size 640x480 with 1 Axes>"
      ]
     },
     "metadata": {},
     "output_type": "display_data"
    },
    {
     "data": {
      "image/png": "[encoded data removed]",
      "text/plain": [
       "<Figure size 640x480 with 1 Axes>"
      ]
     },
     "metadata": {},
     "output_type": "display_data"
    }
   ],
   "source": [
    "net.show_data(28)"
   ]
  },
  {
   "cell_type": "code",
   "execution_count": null,
   "id": "268b73b7-c6da-42ec-b018-375affea90f1",
   "metadata": {},
   "outputs": [],
   "source": []
  }
 ],
 "metadata": {
  "kernelspec": {
   "display_name": "Python 3 (ipykernel)",
   "language": "python",
   "name": "python3"
  },
  "language_info": {
   "codemirror_mode": {
    "name": "ipython",
    "version": 3
   },
   "file_extension": ".py",
   "mimetype": "text/x-python",
   "name": "python",
   "nbconvert_exporter": "python",
   "pygments_lexer": "ipython3",
   "version": "3.9.18"
  }
 },
 "nbformat": 4,
 "nbformat_minor": 5
}
