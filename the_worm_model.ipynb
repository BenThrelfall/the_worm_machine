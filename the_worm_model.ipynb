{
 "cells": [
  {
   "cell_type": "code",
   "execution_count": 2,
   "id": "8652d165-009f-42b1-b7ae-1cd6437b12d5",
   "metadata": {},
   "outputs": [],
   "source": [
    "import numpy as np\n",
    "import pandas as pd\n",
    "from matplotlib import pyplot as plt\n",
    "import json\n",
    "#from sklearn.model_selection import train_test_split\n",
    "#import torch\n",
    "#from torch import nn, optim\n",
    "import time"
   ]
  },
  {
   "cell_type": "code",
   "execution_count": 3,
   "id": "f834953c-e1e2-47f0-b186-0adb8b3fdef9",
   "metadata": {},
   "outputs": [],
   "source": [
    "# Import connectome data\n",
    "\n",
    "gapjn = {}\n",
    "chemical = {}\n",
    "\n",
    "# Gap Junction\n",
    "gap_csv = pd.read_csv(\"gapjn.csv\").fillna(0)\n",
    "gap_data = gap_csv.values[:, 1:]\n",
    "gap_labels = gap_csv.values[:, 0]\n",
    "\n",
    "for i, label in enumerate(gap_labels):\n",
    "    row_dict = {}\n",
    "    for j, tag in enumerate(gap_labels):\n",
    "        row_dict[tag] = gap_data[i, j]\n",
    "\n",
    "    gapjn[label] = row_dict\n",
    "\n",
    "# Chemical \n",
    "chem_csv = pd.read_csv(\"chemical.csv\").fillna(0)\n",
    "chem_data = chem_csv.values[:, 1:]\n",
    "chem_labels = chem_csv.values[:, 0]\n",
    "chem_cols = chem_csv.columns[1:]\n",
    "\n",
    "for i, label in enumerate(chem_labels):\n",
    "    row_dict = {}\n",
    "    for j, tag in enumerate(chem_cols):\n",
    "        row_dict[tag] = chem_data[i, j]\n",
    "\n",
    "    chemical[label] = row_dict"
   ]
  },
  {
   "cell_type": "code",
   "execution_count": 4,
   "id": "38bbc458-4ebb-4161-a104-c4431fd97f5b",
   "metadata": {},
   "outputs": [],
   "source": [
    "# Import neuron data\n",
    "\n",
    "with open(\"data/2022-08-02-01.json\", \"r\") as file:\n",
    "    data_text = file.read()\n",
    "    data_dict = json.loads(data_text)\n",
    "    neuron = np.array(data_dict[\"trace_array\"])"
   ]
  },
  {
   "cell_type": "code",
   "execution_count": 12,
   "id": "0a295817-65d8-460b-8076-c2b0128c4a2b",
   "metadata": {},
   "outputs": [],
   "source": [
    "with open(\"neuron_table.json\", \"r\") as file:\n",
    "    neurons = json.load(file)"
   ]
  },
  {
   "cell_type": "markdown",
   "id": "9ab056b2-fad5-4a4d-a2c6-a2d1708be81a",
   "metadata": {},
   "source": [
    "## Model"
   ]
  },
  {
   "cell_type": "markdown",
   "id": "22a4d551-ffb4-4cd3-8ff1-e5d2a26c1742",
   "metadata": {},
   "source": [
    "### Neuron"
   ]
  },
  {
   "cell_type": "code",
   "execution_count": 53,
   "id": "073c9e3d-fa97-484c-ac8b-07241a97d91c",
   "metadata": {},
   "outputs": [],
   "source": [
    "def I_leak(V_m):\n",
    "    E_leak = -35 #mV\n",
    "    G_leak = 10 #pS I think\n",
    "\n",
    "    return G_leak * (V_m - E_leak)\n",
    "\n",
    "def delta_V_m(V_m, I_leak, I_gap, I_syn, I_in):\n",
    "    C_m = 1 #pF\n",
    "\n",
    "    current_sum = -I_leak - I_gap - I_syn + I_in\n",
    "    return current_sum / C_m\n",
    "\n",
    "# Simplified for now\n",
    "def new_s(V_m):\n",
    "    V_th = -20 #??\n",
    "\n",
    "    return np.clip(V_m - V_th, 0, 1)\n",
    "\n",
    "def I_gap(i, big_V, big_G_gap):\n",
    "    sum = 0\n",
    "    for j in range(len(big_V)):\n",
    "        sum += big_G_gap[i, j] * (big_V[i] - big_V[j])\n",
    "\n",
    "    return sum\n",
    "\n",
    "def I_syn(i, big_V, big_E, big_s, big_G_syn):\n",
    "    sum = 0\n",
    "    for j in range(len(big_V)):\n",
    "        sum += big_G_syn[i, j] * big_s[j] * (big_V[i] - big_E[j])\n",
    "    return sum"
   ]
  },
  {
   "cell_type": "code",
   "execution_count": 61,
   "id": "edc14d3d-42c3-4068-9708-95cd79d5811e",
   "metadata": {},
   "outputs": [],
   "source": [
    "def start_sim(time_step, run_time, input_amount=50, in_start=0.4, in_end=0.6):\n",
    "    \n",
    "    \n",
    "    # Set inital values\n",
    "    names = np.array(list(chemical.keys()))\n",
    "    big_V = np.array([-40.0 for i in names])\n",
    "    big_s = np.array([0.0 for i in names])\n",
    "    big_G_gap = np.array([list(gapjn[name].values()) for name in names])\n",
    "    big_G_syn = np.array([[gapjn[name][name_2] for name_2 in names] for name in names])\n",
    "    big_E = np.array([0.0 for i in names])\n",
    "    indices = np.array([i for i in range(len(names))])\n",
    "    input_current = np.array([0.0 for i in names])\n",
    "    \n",
    "    t = 0\n",
    "\n",
    "    # Storage\n",
    "    big_V_array = []\n",
    "    I_leak_array = []\n",
    "    I_in_array = []\n",
    "    I_syn_array = []\n",
    "    time = []\n",
    "\n",
    "    time_range = int(run_time / time_step)\n",
    "    start_index = int(time_range * in_start)\n",
    "    end_index = int(time_range * in_end)\n",
    "\n",
    "    for i in range(time_range):\n",
    "        if i == time_range // 4:\n",
    "            print(\"25%\")\n",
    "        if i == time_range // 2:\n",
    "            print(\"50%\")\n",
    "        if i == (time_range // 4) * 3:\n",
    "            print(\"75%\")\n",
    "\n",
    "        if i == start_index:\n",
    "            input_current[0] = input_amount\n",
    "        \n",
    "        if i == end_index:\n",
    "            input_current[0] = 0\n",
    "\n",
    "        # Time stuff\n",
    "        time.append(t)\n",
    "        t += time_step\n",
    "\n",
    "        # Calculate\n",
    "        leak_current = I_leak(big_V)\n",
    "        \n",
    "        gap_current = I_gap(indices, big_V, big_G_gap)\n",
    "        syn_current = I_syn(indices, big_V, big_E, big_s, big_G_syn)\n",
    "        \n",
    "        d_V_m = delta_V_m(big_V, leak_current, gap_current, syn_current, input_current)\n",
    "        d_s = new_s(big_V)\n",
    "\n",
    "        #TEMP Voltage clamp\n",
    "        d_V_m[0] = 0\n",
    "        \n",
    "        #Update\n",
    "        big_V += d_V_m * time_step\n",
    "        big_s += d_s * time_step\n",
    "    \n",
    "        #Store\n",
    "        big_V_array.append(big_V.copy())\n",
    "        I_leak_array.append(leak_current.copy())\n",
    "        I_in_array.append(input_current.copy())\n",
    "        I_syn_array.append(syn_current.copy())\n",
    "\n",
    "    return [time, np.array(big_V_array) ,np.array(I_leak_array), np.array(I_in_array), np.array(I_syn_array)]"
   ]
  },
  {
   "cell_type": "code",
   "execution_count": null,
   "id": "d1248dad-459e-4daf-b8d4-006b54adbdac",
   "metadata": {},
   "outputs": [
    {
     "name": "stdout",
     "output_type": "stream",
     "text": [
      "25%\n",
      "50%\n"
     ]
    }
   ],
   "source": [
    "results = start_sim(0.001, 3.0, in_start=1.2, in_end=1.2)"
   ]
  },
  {
   "cell_type": "code",
   "execution_count": null,
   "id": "dbe77d91-0e0a-4350-81f4-468358e10ef7",
   "metadata": {},
   "outputs": [],
   "source": []
  }
 ],
 "metadata": {
  "kernelspec": {
   "display_name": "Python 3 (ipykernel)",
   "language": "python",
   "name": "python3"
  },
  "language_info": {
   "codemirror_mode": {
    "name": "ipython",
    "version": 3
   },
   "file_extension": ".py",
   "mimetype": "text/x-python",
   "name": "python",
   "nbconvert_exporter": "python",
   "pygments_lexer": "ipython3",
   "version": "3.9.18"
  }
 },
 "nbformat": 4,
 "nbformat_minor": 5
}
