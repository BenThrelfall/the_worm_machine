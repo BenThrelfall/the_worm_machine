{
 "cells": [
  {
   "cell_type": "code",
   "execution_count": 1,
   "id": "8e61e76e-1dc6-43a8-b5d8-41485b62fddf",
   "metadata": {},
   "outputs": [],
   "source": [
    "import numpy as np\n",
    "from matplotlib import pyplot as plt\n",
    "import json"
   ]
  },
  {
   "cell_type": "code",
   "execution_count": 3,
   "id": "92fe2ed8-5855-4716-96b9-71cd65f76884",
   "metadata": {},
   "outputs": [],
   "source": [
    "with open(\"rust/processed_data/default_g_syn.json\", \"r\") as file:\n",
    "    g_syn = json.load(file)\n",
    "\n",
    "with open(\"rust/processed_data/default_e_syn.json\", \"r\") as file:\n",
    "    e_syn = json.load(file)\n",
    "\n",
    "with open(\"rust/processed_data/proc_calc_syn_g.json\", \"r\") as file:\n",
    "    calc = json.load(file)"
   ]
  },
  {
   "cell_type": "code",
   "execution_count": 7,
   "id": "4d3fb86b-fe23-4897-bea9-74e0262b0a27",
   "metadata": {},
   "outputs": [],
   "source": [
    "new_calc = [e_syn[i] if g_syn[i] != 0 else 0.0 for i, _ in enumerate(g_syn)]"
   ]
  },
  {
   "cell_type": "code",
   "execution_count": 11,
   "id": "73f6edf0-9d7d-4ea6-9938-4006f28113dd",
   "metadata": {},
   "outputs": [],
   "source": [
    "diff = [(new_calc[i] - calc[i]) ** 2 for i, _ in enumerate(calc)]"
   ]
  },
  {
   "cell_type": "code",
   "execution_count": 13,
   "id": "26a4fb42-9ae7-48d4-9ead-31a11019e824",
   "metadata": {},
   "outputs": [
    {
     "data": {
      "text/plain": [
       "0.0"
      ]
     },
     "execution_count": 13,
     "metadata": {},
     "output_type": "execute_result"
    }
   ],
   "source": [
    "sum(diff)"
   ]
  },
  {
   "cell_type": "code",
   "execution_count": null,
   "id": "51e826d7-801d-4602-9dab-8491d7e8b292",
   "metadata": {},
   "outputs": [],
   "source": []
  }
 ],
 "metadata": {
  "kernelspec": {
   "display_name": "Python 3 (ipykernel)",
   "language": "python",
   "name": "python3"
  },
  "language_info": {
   "codemirror_mode": {
    "name": "ipython",
    "version": 3
   },
   "file_extension": ".py",
   "mimetype": "text/x-python",
   "name": "python",
   "nbconvert_exporter": "python",
   "pygments_lexer": "ipython3",
   "version": "3.9.18"
  }
 },
 "nbformat": 4,
 "nbformat_minor": 5
}
