{
 "cells": [
  {
   "cell_type": "code",
   "execution_count": 52,
   "id": "d94c67ce-26a0-4e57-8721-086e04554b6c",
   "metadata": {},
   "outputs": [],
   "source": [
    "import numpy as np\n",
    "import pandas as pd\n",
    "from matplotlib import pyplot as plt\n",
    "import json\n",
    "from sklearn.model_selection import train_test_split\n",
    "import torch\n",
    "from torch import nn, optim\n",
    "import time\n",
    "from torch.utils.data import DataLoader, TensorDataset"
   ]
  },
  {
   "cell_type": "code",
   "execution_count": 53,
   "id": "131ef908-421e-4c24-8529-68bb6e4735e3",
   "metadata": {},
   "outputs": [],
   "source": [
    "def new_s(V_m):\n",
    "    a_r = 1\n",
    "    a_d = 5\n",
    "    beta = 0.125\n",
    "    V_th = -15 #??\n",
    "    sig = 1 / (1 + np.exp(-beta * (V_m - V_th)))\n",
    "\n",
    "    return (a_r * sig) / (a_r * sig + a_d)"
   ]
  },
  {
   "cell_type": "code",
   "execution_count": 123,
   "id": "3f15df2a-b994-4c93-8dc6-a61cf816fd5d",
   "metadata": {},
   "outputs": [
    {
     "name": "stdout",
     "output_type": "stream",
     "text": [
      "<class 'torch.Tensor'> torch.Size([2])\n",
      "<class 'torch.Tensor'> torch.Size([2])\n",
      "<class 'torch.Tensor'> torch.Size([2, 2])\n",
      "<class 'torch.Tensor'> torch.Size([2])\n",
      "<class 'torch.Tensor'> torch.Size([2, 2])\n"
     ]
    }
   ],
   "source": [
    "class BetaNeuronNet(nn.Module):\n",
    "    def __init__(self, G_leak, E_leak, G_syn, E_syn, G_gap):\n",
    "        super().__init__()\n",
    "\n",
    "        self.G_leak = nn.Parameter(torch.from_numpy(G_leak))\n",
    "        self.E_leak = nn.Parameter(torch.from_numpy(E_leak))\n",
    "\n",
    "        self.G_syn = nn.Parameter(torch.from_numpy(G_syn))\n",
    "        self.E_syn = nn.Parameter(torch.from_numpy(E_syn))\n",
    "\n",
    "        self.G_gap = nn.Parameter(torch.from_numpy(G_gap))\n",
    "\n",
    "    def calc_co_syn(self, big_s):\n",
    "        sum = 0\n",
    "        for j in range(len(big_s)):\n",
    "            sum += self.G_syn[:, j] * big_s[j]\n",
    "        return sum    \n",
    "\n",
    "    def calc_int_syn(self, big_s):\n",
    "        sum = 0\n",
    "        for j in range(len(big_s)):\n",
    "            sum += self.G_syn[:, j] * big_s[j] * self.E_syn[j]\n",
    "        return sum    \n",
    "\n",
    "    def calc_I_syn(self, Voltage, co, int):\n",
    "        return Voltage * co - int\n",
    "\n",
    "    # Gapjn coefficent\n",
    "    def calc_co_gap(self):\n",
    "        return torch.sum(self.G_gap, dim=1)\n",
    "    \n",
    "    # Gapjn intercept\n",
    "    def calc_int_gap(self, voltage):\n",
    "        sum = 0\n",
    "        for j in range(len(voltage)):\n",
    "            sum += self.G_gap[:, j] * voltage[j]\n",
    "    \n",
    "        return sum\n",
    "    \n",
    "    # Gapjn current\n",
    "    def calc_I_gap(self, voltage, co, int):\n",
    "        return voltage * co - int\n",
    "\n",
    "    def calc_I_leak(self, Voltage):    \n",
    "        return self.G_leak * (Voltage - self.E_leak)\n",
    "\n",
    "    def calc_delta_V(self, voltage, I_leak, I_gap, I_syn):\n",
    "        current_sum = -I_leak - I_syn - I_gap\n",
    "        return current_sum\n",
    "\n",
    "    def calc_delta_s(self, Voltage, gate):\n",
    "        a_r = 1\n",
    "        a_d = 5\n",
    "        beta = 0.125\n",
    "        V_th = -15 #??\n",
    "    \n",
    "        sig = 1 / (1 + torch.exp(-beta * (Voltage - V_th)))\n",
    "    \n",
    "        return a_r * sig * (1 - gate) - a_d * gate\n",
    "    \n",
    "    def forward(self, big_V, big_s, time_step):\n",
    "\n",
    "        leak_current = self.calc_I_leak(big_V)\n",
    "\n",
    "        syn_co = self.calc_co_syn(big_s)\n",
    "        syn_int = self.calc_int_syn(big_s)\n",
    "        syn_current = self.calc_I_syn(big_V, syn_co, syn_int)\n",
    "\n",
    "        gap_co = self.calc_co_gap()\n",
    "        gap_int = self.calc_int_gap(big_V)\n",
    "        gap_current = self.calc_I_gap(big_V, gap_co, gap_int)\n",
    "\n",
    "        delta_V = self.calc_delta_V(big_V, leak_current, gap_current, syn_current)\n",
    "        delta_s = self.calc_delta_s(big_V, big_s)\n",
    "\n",
    "        new_V = big_V + (delta_V * time_step)\n",
    "        new_s = big_s + (delta_s * time_step)\n",
    "        \n",
    "        return new_V, new_s, leak_current, syn_current "
   ]
  },
  {
   "cell_type": "code",
   "execution_count": 128,
   "id": "a4a16c56-6bed-4001-bc0f-530940cc84f8",
   "metadata": {},
   "outputs": [
    {
     "name": "stdout",
     "output_type": "stream",
     "text": [
      "7.31 s ± 605 ms per loop (mean ± std. dev. of 7 runs, 1 loop each)\n"
     ]
    }
   ],
   "source": [
    "%%timeit\n",
    "V = torch.from_numpy(np.array([40.0, -40.0]))\n",
    "s = torch.from_numpy(np.array([new_s(40.0), new_s(-40.0)]))\n",
    "G_leak = np.array([10.0 for V_m in V])\n",
    "E_leak = np.array([-35.0 for V_m in V])\n",
    "G_syn = np.array([[0.0, 50.0], [80.0, 0.0]])\n",
    "E_syn = np.array([0.0 for V_m in V])\n",
    "G_gap = np.array([[0.0, 100.0], [100.0, 0.0]])\n",
    "\n",
    "net = BetaNeuronNet(G_leak, E_leak, G_syn, E_syn, G_gap)\n",
    "\n",
    "for i in range(30 * 1000):\n",
    "    V, s, leak, syn = net(V, s, 0.001)"
   ]
  },
  {
   "cell_type": "code",
   "execution_count": null,
   "id": "2c252c2e-dcb6-49a2-a23a-29c6afd7714a",
   "metadata": {},
   "outputs": [],
   "source": []
  }
 ],
 "metadata": {
  "kernelspec": {
   "display_name": "Python 3 (ipykernel)",
   "language": "python",
   "name": "python3"
  },
  "language_info": {
   "codemirror_mode": {
    "name": "ipython",
    "version": 3
   },
   "file_extension": ".py",
   "mimetype": "text/x-python",
   "name": "python",
   "nbconvert_exporter": "python",
   "pygments_lexer": "ipython3",
   "version": "3.9.18"
  }
 },
 "nbformat": 4,
 "nbformat_minor": 5
}
