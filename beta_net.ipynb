{
 "cells": [
  {
   "cell_type": "code",
   "execution_count": 1,
   "id": "d94c67ce-26a0-4e57-8721-086e04554b6c",
   "metadata": {},
   "outputs": [],
   "source": [
    "import numpy as np\n",
    "import pandas as pd\n",
    "from matplotlib import pyplot as plt\n",
    "import json\n",
    "from sklearn.model_selection import train_test_split\n",
    "import torch\n",
    "from torch import nn, optim\n",
    "import time\n",
    "from torch.utils.data import DataLoader, TensorDataset\n",
    "\n",
    "from neuron_torch.beta_net import BetaNeuronNet"
   ]
  },
  {
   "cell_type": "code",
   "execution_count": 2,
   "id": "131ef908-421e-4c24-8529-68bb6e4735e3",
   "metadata": {},
   "outputs": [],
   "source": [
    "def new_s(V_m):\n",
    "    a_r = 1\n",
    "    a_d = 5\n",
    "    beta = 0.125\n",
    "    V_th = -15 #??\n",
    "    sig = 1 / (1 + np.exp(-beta * (V_m - V_th)))\n",
    "\n",
    "    return (a_r * sig) / (a_r * sig + a_d)"
   ]
  },
  {
   "cell_type": "code",
   "execution_count": 3,
   "id": "a4a16c56-6bed-4001-bc0f-530940cc84f8",
   "metadata": {},
   "outputs": [],
   "source": [
    "\n",
    "V = torch.from_numpy(np.array([40.0, -40.0]))\n",
    "s = torch.from_numpy(np.array([new_s(40.0), new_s(-40.0)]))\n",
    "G_leak = np.array([10.0 for V_m in V])\n",
    "E_leak = np.array([-35.0 for V_m in V])\n",
    "G_syn = np.array([[0.0, 50.0], [80.0, 0.0]])\n",
    "E_syn = np.array([0.0 for V_m in V])\n",
    "G_gap = np.array([[0.0, 100.0], [100.0, 0.0]])\n",
    "\n",
    "net = BetaNeuronNet(G_leak, E_leak, G_syn, E_syn, G_gap)\n",
    "\n",
    "for i in range(5 * 1000):\n",
    "    V, s, leak, syn = net(V, s, 0.001)"
   ]
  },
  {
   "cell_type": "code",
   "execution_count": 4,
   "id": "2c252c2e-dcb6-49a2-a23a-29c6afd7714a",
   "metadata": {},
   "outputs": [],
   "source": [
    "def train(model, criterion, optimizer, points, labels, epoches=5, batch=64, do_print=True):\n",
    "\n",
    "    dataset = TensorDataset(points, labels)\n",
    "    dataloader = DataLoader(dataset, batch_size=batch, shuffle=True)\n",
    "    \n",
    "    total_start_time = time.time()\n",
    "    loss = -1\n",
    "    for i in range(1,epoches+1):\n",
    "        start_time = time.time()\n",
    "        for points_batch, labels_batch in dataloader:\n",
    "            optimizer.zero_grad()\n",
    "            y = model(points_batch)\n",
    "            loss = criterion(y, labels_batch)\n",
    "            loss.backward()\n",
    "            optimizer.step()\n",
    "        end_time = time.time()\n",
    "\n",
    "            \n",
    "    total_end_time = time.time()\n",
    "    total_time_taken = total_end_time - total_start_time\n",
    "    if(do_print):\n",
    "        print(f\"Total Time {total_time_taken}\")\n",
    "        \n",
    "    final_loss = loss.item()\n",
    "    \n",
    "    return (total_time_taken, final_loss)"
   ]
  },
  {
   "cell_type": "code",
   "execution_count": null,
   "id": "f739e8dd-5c03-4e65-8bf8-ffcd715e575e",
   "metadata": {},
   "outputs": [],
   "source": []
  }
 ],
 "metadata": {
  "kernelspec": {
   "display_name": "Python 3 (ipykernel)",
   "language": "python",
   "name": "python3"
  },
  "language_info": {
   "codemirror_mode": {
    "name": "ipython",
    "version": 3
   },
   "file_extension": ".py",
   "mimetype": "text/x-python",
   "name": "python",
   "nbconvert_exporter": "python",
   "pygments_lexer": "ipython3",
   "version": "3.9.18"
  }
 },
 "nbformat": 4,
 "nbformat_minor": 5
}
