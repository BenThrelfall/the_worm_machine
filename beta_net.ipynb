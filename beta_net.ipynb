{
 "cells": [
  {
   "cell_type": "code",
   "execution_count": 1,
   "id": "d94c67ce-26a0-4e57-8721-086e04554b6c",
   "metadata": {},
   "outputs": [],
   "source": [
    "import numpy as np\n",
    "from matplotlib import pyplot as plt\n",
    "from sklearn.model_selection import train_test_split\n",
    "import torch\n",
    "from torch import nn, optim\n",
    "import time\n",
    "from torch.utils.data import DataLoader, TensorDataset\n",
    "import torch.nn.functional as F\n",
    "\n",
    "from libworm.torch.beta_net import BetaNeuronNet, from_connectome\n",
    "from libworm.data import connectomes, traces\n",
    "from libworm import preprocess\n",
    "from libworm.functions import set_neurons, tcalc_s_inf, set_trace"
   ]
  },
  {
   "cell_type": "code",
   "execution_count": 2,
   "id": "131ef908-421e-4c24-8529-68bb6e4735e3",
   "metadata": {},
   "outputs": [],
   "source": [
    "def new_s(V_m):\n",
    "    a_r = 1\n",
    "    a_d = 5\n",
    "    beta = 0.125\n",
    "    V_th = -15 #??\n",
    "    sig = 1 / (1 + np.exp(-beta * (V_m - V_th)))\n",
    "\n",
    "    return (a_r * sig) / (a_r * sig + a_d)"
   ]
  },
  {
   "cell_type": "code",
   "execution_count": 3,
   "id": "a4a16c56-6bed-4001-bc0f-530940cc84f8",
   "metadata": {},
   "outputs": [],
   "source": [
    "\n",
    "V = torch.from_numpy(np.array([40.0, -40.0]))\n",
    "s = torch.from_numpy(np.array([new_s(40.0), new_s(-40.0)]))\n",
    "G_leak = np.array([10.0 for V_m in V])\n",
    "E_leak = np.array([-35.0 for V_m in V])\n",
    "G_syn = np.array([[0.0, 50.0], [80.0, 0.0]])\n",
    "E_syn = np.array([0.0 for V_m in V])\n",
    "G_gap = np.array([[0.0, 100.0], [100.0, 0.0]])\n",
    "\n",
    "net = BetaNeuronNet(G_leak, E_leak, G_syn, E_syn, G_gap)"
   ]
  },
  {
   "cell_type": "code",
   "execution_count": 4,
   "id": "2c252c2e-dcb6-49a2-a23a-29c6afd7714a",
   "metadata": {},
   "outputs": [],
   "source": [
    "def train(model, criterion, optimizer, points, labels,\n",
    "          data_labels, label2index, epoches=5,\n",
    "          batch=64, timestep=0.001, data_timestep=0.60156673, do_print=True):\n",
    "\n",
    "    dataset = TensorDataset(points, labels)\n",
    "    dataloader = DataLoader(dataset, batch_size=batch, shuffle=True)\n",
    "    \n",
    "    total_start_time = time.time()\n",
    "    loss = -1\n",
    "    for i in range(1,epoches+1):\n",
    "        for points_batch, labels_batch in dataloader:\n",
    "            start_time = time.time()\n",
    "            optimizer.zero_grad()\n",
    "            \n",
    "            sim_time = 0.0\n",
    "            next_timestamp = 0.0\n",
    "\n",
    "            voltage = torch.ones((batch, len(data_labels)))\n",
    "            gates = torch.ones((batch, len(data_labels)))\n",
    "\n",
    "            #Prepare\n",
    "            for i in range(points_batch.shape[2]):\n",
    "                while True:\n",
    "                    if sim_time >= next_timestamp:\n",
    "                        inter = F.pad(points_batch[:, :, i], (0, 200), \"constant\", 0)\n",
    "                        \n",
    "                        gates = tcalc_s_inf(voltage)\n",
    "                        next_timestamp += data_timestep\n",
    "                        break;\n",
    "                    voltage, gates,_,_ = model(voltage, gates, timestep)\n",
    "                    sim_time += timestep\n",
    "\n",
    "            final_output = torch.zeros(labels_batch.shape)\n",
    "            \n",
    "            for i in range(labels_batch.shape[2]):\n",
    "                while True:\n",
    "                    if sim_time >= next_timestamp:\n",
    "                        set_trace(voltage, final_output, i, data_labels, label2index)\n",
    "                        next_timestamp += data_timestep\n",
    "                        break;\n",
    "                        \n",
    "                    voltage, gates,_,_ = model(voltage, gates, timestep)\n",
    "                    sim_time += timestep\n",
    "            \n",
    "            #Compare\n",
    "            loss = criterion(final_output, labels_batch)\n",
    "            print(loss)\n",
    "            loss.backward()\n",
    "\n",
    "            for param in model.parameters():\n",
    "                print(param.grad)\n",
    "                break\n",
    "            \n",
    "            optimizer.step()\n",
    "            \n",
    "            end_time = time.time()\n",
    "            print(f\"Batch Complete: Time {start_time - end_time} Loss: {loss.item()}\")\n",
    "        \n",
    "        \n",
    "\n",
    "            \n",
    "    total_end_time = time.time()\n",
    "    total_time_taken = total_end_time - total_start_time\n",
    "    if(do_print):\n",
    "        print(f\"Total Time {total_time_taken}\")\n",
    "        \n",
    "    final_loss = loss.item()\n",
    "    \n",
    "    return (total_time_taken, final_loss)"
   ]
  },
  {
   "cell_type": "code",
   "execution_count": 5,
   "id": "8ac04bfc-a6d6-4846-92a5-1a531429ba23",
   "metadata": {},
   "outputs": [],
   "source": [
    "torch.manual_seed(4687)\n",
    "\n",
    "trace, _, _, label2index, timestamps = traces.load_trace()\n",
    "timestamps = timestamps - timestamps[0]\n",
    "\n",
    "voltage = preprocess.trace2volt(trace)\n",
    "\n",
    "points, labels = preprocess.window_split(voltage)\n",
    "points = torch.from_numpy(points)\n",
    "labels = torch.from_numpy(labels)\n",
    "\n",
    "train_x, test_x, train_y, test_y = train_test_split(points, labels, train_size=0.1)\n",
    "\n",
    "chemical, gapjn = connectomes.load_cook_connectome()\n",
    "neurons = connectomes.get_main_neurons(chemical, gapjn)\n",
    "model = from_connectome(chemical, gapjn, neurons)\n",
    "\n",
    "optimiser = optim.Adam(model.parameters(), lr=0.000001)\n",
    "crit = nn.MSELoss()"
   ]
  },
  {
   "cell_type": "code",
   "execution_count": 6,
   "id": "234d4de2-6828-4d69-b687-f671b1507509",
   "metadata": {},
   "outputs": [],
   "source": [
    "inter = F.pad(points[:, :, 0], (0, 200), \"constant\", 0)"
   ]
  },
  {
   "cell_type": "code",
   "execution_count": 7,
   "id": "6f10d7d6-db72-40e1-aada-7d1353ca4adc",
   "metadata": {},
   "outputs": [
    {
     "data": {
      "text/plain": [
       "torch.Size([1570, 352])"
      ]
     },
     "execution_count": 7,
     "metadata": {},
     "output_type": "execute_result"
    }
   ],
   "source": [
    "inter.shape"
   ]
  },
  {
   "cell_type": "code",
   "execution_count": null,
   "id": "674579a6-7881-41ee-9589-3ea97315ecd0",
   "metadata": {},
   "outputs": [
    {
     "name": "stdout",
     "output_type": "stream",
     "text": [
      "tensor(664.1306, grad_fn=<MseLossBackward0>)\n"
     ]
    }
   ],
   "source": [
    "results = train(model, crit, optimiser,\n",
    "                train_x, train_y, neurons,\n",
    "                label2index, epoches=1, batch=6, timestep=0.005)"
   ]
  },
  {
   "cell_type": "code",
   "execution_count": null,
   "id": "ed862b89-26f5-4fbb-81b6-c717726fec3a",
   "metadata": {},
   "outputs": [],
   "source": []
  }
 ],
 "metadata": {
  "kernelspec": {
   "display_name": "Python 3 (ipykernel)",
   "language": "python",
   "name": "python3"
  },
  "language_info": {
   "codemirror_mode": {
    "name": "ipython",
    "version": 3
   },
   "file_extension": ".py",
   "mimetype": "text/x-python",
   "name": "python",
   "nbconvert_exporter": "python",
   "pygments_lexer": "ipython3",
   "version": "3.9.18"
  }
 },
 "nbformat": 4,
 "nbformat_minor": 5
}
